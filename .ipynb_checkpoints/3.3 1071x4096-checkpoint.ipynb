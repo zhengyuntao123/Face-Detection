{
 "cells": [
  {
   "cell_type": "code",
   "execution_count": 1,
   "id": "ce23edc2",
   "metadata": {},
   "outputs": [],
   "source": [
    "import os\n",
    "from PIL import Image\n",
    "import numpy as np\n",
    "from matplotlib import pyplot as plt\n",
    "import pandas as pd\n",
    "import time"
   ]
  },
  {
   "cell_type": "code",
   "execution_count": 2,
   "id": "c5a9ea3e",
   "metadata": {},
   "outputs": [],
   "source": [
    "imagedirectory='./lfw1000'\n",
    "image = Image.open(os.path.join(imagedirectory, os.listdir(imagedirectory)[0]))"
   ]
  },
  {
   "cell_type": "code",
   "execution_count": 3,
   "id": "3377900f",
   "metadata": {},
   "outputs": [],
   "source": [
    "nrows, ncolumns = image.height, image.width"
   ]
  },
  {
   "cell_type": "code",
   "execution_count": 4,
   "id": "6d6670d2",
   "metadata": {},
   "outputs": [],
   "source": [
    "nimages=len(os.listdir(imagedirectory))"
   ]
  },
  {
   "cell_type": "code",
   "execution_count": 5,
   "id": "2a5bffed",
   "metadata": {},
   "outputs": [
    {
     "data": {
      "text/plain": [
       "(1071, 4096)"
      ]
     },
     "execution_count": 5,
     "metadata": {},
     "output_type": "execute_result"
    }
   ],
   "source": [
    "M=np.empty([nimages,nrows*ncolumns])\n",
    "M.shape"
   ]
  },
  {
   "cell_type": "code",
   "execution_count": 6,
   "id": "dddcc4b8",
   "metadata": {},
   "outputs": [],
   "source": [
    "for i, filename in enumerate(os.listdir(imagedirectory)):\n",
    "    image = Image.open(os.path.join(imagedirectory, filename))\n",
    "    M[i,:] = np.asarray(image.getdata())"
   ]
  },
  {
   "cell_type": "code",
   "execution_count": 7,
   "id": "8680fe0d",
   "metadata": {},
   "outputs": [
    {
     "data": {
      "text/plain": [
       "(1071, 4096)"
      ]
     },
     "execution_count": 7,
     "metadata": {},
     "output_type": "execute_result"
    }
   ],
   "source": [
    "M.shape"
   ]
  },
  {
   "cell_type": "code",
   "execution_count": 8,
   "id": "a0389e56",
   "metadata": {},
   "outputs": [],
   "source": [
    "def ICA(M):\n",
    "    mu=np.mean(M,axis=1)\n",
    "    mu=mu.reshape((mu.shape[0],1))\n",
    "    M=M-mu@np.ones((1,M.shape[1]))\n",
    "    R_MM=M@np.transpose(M)\n",
    "    diag,E=np.linalg.eig(R_MM)\n",
    "    diag=diag**(-0.5)\n",
    "    diag=np.diag(diag)\n",
    "    C=diag@np.transpose(E)\n",
    "    X=C@M\n",
    "    print('mean of each row:',np.mean(X,axis=1))\n",
    "    print('variance of each row:',np.var(X,axis=1))\n",
    "    D=np.zeros((M.shape[0],M.shape[0]))\n",
    "    for col in range(X.shape[1]):\n",
    "        x=X[:,col]\n",
    "        x=x.reshape((M.shape[0],1))\n",
    "        D=D+np.linalg.norm(x)**2*(x@np.transpose(x))\n",
    "    D=D/X.shape[1]\n",
    "    eigenvalue,U=np.linalg.eig(D)\n",
    "    A=np.transpose(U)@C\n",
    "    H=A@M\n",
    "    #return centered data M\n",
    "    return M,H"
   ]
  },
  {
   "cell_type": "code",
   "execution_count": null,
   "id": "2fc79ff2",
   "metadata": {},
   "outputs": [
    {
     "name": "stdout",
     "output_type": "stream",
     "text": [
      "mean of each row: [ 0.00000000e+00  1.62630326e-19  0.00000000e+00 ... -7.51487631e-18\n",
      "  3.46097662e-18  2.83247818e-18]\n",
      "variance of each row: [0.00024414 0.00024414 0.00024414 ... 0.00024414 0.00024414 0.00024414]\n"
     ]
    }
   ],
   "source": [
    "X,H=ICA(M)"
   ]
  },
  {
   "cell_type": "code",
   "execution_count": null,
   "id": "1cddfdfd",
   "metadata": {},
   "outputs": [],
   "source": [
    "ICA_face1=H[0,:]"
   ]
  },
  {
   "cell_type": "code",
   "execution_count": null,
   "id": "0e6d2a5a",
   "metadata": {},
   "outputs": [],
   "source": [
    "ICA_face_reshape=ICA_face1.reshape(nrows,ncolumns)"
   ]
  },
  {
   "cell_type": "code",
   "execution_count": null,
   "id": "03f14e7d",
   "metadata": {},
   "outputs": [],
   "source": [
    "plt.imshow(ICA_face_reshape,cmap=\"gray\")"
   ]
  },
  {
   "cell_type": "markdown",
   "id": "9ef2b6a3",
   "metadata": {},
   "source": [
    "# Try"
   ]
  },
  {
   "cell_type": "code",
   "execution_count": null,
   "id": "b437d0c8",
   "metadata": {},
   "outputs": [],
   "source": [
    "X,H=ICA(M)"
   ]
  },
  {
   "cell_type": "code",
   "execution_count": null,
   "id": "8b94e8bb",
   "metadata": {},
   "outputs": [],
   "source": [
    "ICA_face1=H[0,:]"
   ]
  },
  {
   "cell_type": "code",
   "execution_count": null,
   "id": "cc2529aa",
   "metadata": {},
   "outputs": [],
   "source": [
    "ICA_face1=ICA_face1.reshape(nrows,ncolumns)"
   ]
  },
  {
   "cell_type": "code",
   "execution_count": null,
   "id": "1cf5bf64",
   "metadata": {},
   "outputs": [],
   "source": [
    "img=plt.imshow(ICA_face1,cmap='gray')"
   ]
  },
  {
   "cell_type": "code",
   "execution_count": null,
   "id": "f393f532",
   "metadata": {},
   "outputs": [],
   "source": [
    "X=np.transpose(X)"
   ]
  },
  {
   "cell_type": "code",
   "execution_count": null,
   "id": "4c3f071f",
   "metadata": {},
   "outputs": [],
   "source": [
    "H.shape"
   ]
  },
  {
   "cell_type": "code",
   "execution_count": null,
   "id": "8e2db388",
   "metadata": {},
   "outputs": [],
   "source": [
    "errors=[]\n",
    "time_start=time.time()\n",
    "for k in range(1,101):\n",
    "    error=0\n",
    "    ICA_faces=H[:,:k]\n",
    "    proj=ICA_faces@np.linalg.pinv(ICA_faces)\n",
    "    ematrix=X-proj@X\n",
    "    for i in range(ematrix.shape[1]):\n",
    "        error=error+np.linalg.norm(ematrix[:,i])\n",
    "    error=error/X.shape[1]\n",
    "    errors.append(error)\n",
    "time_end=time.time()\n",
    "print('time cost',time_end-time_start,'s')"
   ]
  },
  {
   "cell_type": "code",
   "execution_count": null,
   "id": "d98895a2",
   "metadata": {},
   "outputs": [],
   "source": [
    "fig,ax=plt.subplots()\n",
    "ax.plot(range(100),errors)\n",
    "ax.set_xlabel(\"k\")\n",
    "ax.set_ylabel(\"error\")\n",
    "plt.plot()"
   ]
  },
  {
   "cell_type": "code",
   "execution_count": null,
   "id": "627c2da4",
   "metadata": {},
   "outputs": [],
   "source": [
    "print(\"The mean reconstruction error using k=100 is {e}\".format(e=errors[99]))"
   ]
  },
  {
   "cell_type": "code",
   "execution_count": null,
   "id": "6ef26024",
   "metadata": {},
   "outputs": [],
   "source": [
    "ICA_face1=H[0,:]\n",
    "ICA_face2=H[1,:]"
   ]
  },
  {
   "cell_type": "code",
   "execution_count": null,
   "id": "5d52e51a",
   "metadata": {},
   "outputs": [],
   "source": [
    "np.dot(ICA_face1,ICA_face2)"
   ]
  },
  {
   "cell_type": "code",
   "execution_count": null,
   "id": "5bc1f8e3",
   "metadata": {},
   "outputs": [],
   "source": [
    "angle=np.arccos(np.dot(ICA_face1,ICA_face2)/(np.linalg.norm(ICA_face1)*np.linalg.norm(ICA_face2)))\n",
    "angle"
   ]
  },
  {
   "cell_type": "code",
   "execution_count": null,
   "id": "55da6192",
   "metadata": {},
   "outputs": [],
   "source": []
  },
  {
   "cell_type": "code",
   "execution_count": null,
   "id": "1022399f",
   "metadata": {},
   "outputs": [],
   "source": []
  }
 ],
 "metadata": {
  "kernelspec": {
   "display_name": "Python 3 (ipykernel)",
   "language": "python",
   "name": "python3"
  },
  "language_info": {
   "codemirror_mode": {
    "name": "ipython",
    "version": 3
   },
   "file_extension": ".py",
   "mimetype": "text/x-python",
   "name": "python",
   "nbconvert_exporter": "python",
   "pygments_lexer": "ipython3",
   "version": "3.11.4"
  }
 },
 "nbformat": 4,
 "nbformat_minor": 5
}
