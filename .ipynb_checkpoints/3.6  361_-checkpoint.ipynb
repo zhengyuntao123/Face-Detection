{
 "cells": [
  {
   "cell_type": "code",
   "execution_count": 1,
   "id": "a6c6f72d",
   "metadata": {},
   "outputs": [],
   "source": [
    "import os\n",
    "from PIL import Image\n",
    "import numpy as np\n",
    "from matplotlib import pyplot as plt\n",
    "import pandas as pd\n",
    "import time\n",
    "import matplotlib.pyplot as plt\n",
    "import matplotlib.patches as patches\n",
    "from PIL import Image, ImageDraw\n",
    "from joblib import dump, load"
   ]
  },
  {
   "cell_type": "code",
   "execution_count": 2,
   "id": "f19c9519",
   "metadata": {},
   "outputs": [],
   "source": [
    "imagedirectories=['./train/face','./test/face','./train/non-face','./test/non-face']\n",
    "image = Image.open(os.path.join(imagedirectories[0], os.listdir(imagedirectories[0])[0]))\n",
    "nrows, ncolumns = image.height, image.width"
   ]
  },
  {
   "cell_type": "code",
   "execution_count": 3,
   "id": "ebdaad3c",
   "metadata": {},
   "outputs": [],
   "source": [
    "image_temp=Image.open('./train/face/face01000.pgm')\n",
    "image_temp.show()"
   ]
  },
  {
   "cell_type": "code",
   "execution_count": 4,
   "id": "03b3bc63",
   "metadata": {},
   "outputs": [
    {
     "name": "stdout",
     "output_type": "stream",
     "text": [
      "31022\n"
     ]
    }
   ],
   "source": [
    "nimages=0\n",
    "for i in imagedirectories:\n",
    "    nimages=nimages+len(os.listdir(i))\n",
    "print(nimages)"
   ]
  },
  {
   "cell_type": "code",
   "execution_count": 5,
   "id": "52a63dce",
   "metadata": {},
   "outputs": [
    {
     "name": "stdout",
     "output_type": "stream",
     "text": [
      "(361, 31022)\n"
     ]
    }
   ],
   "source": [
    "X_tr=np.empty([nrows*ncolumns,nimages])\n",
    "print(X_tr.shape)"
   ]
  },
  {
   "cell_type": "code",
   "execution_count": 6,
   "id": "03ebd4b3",
   "metadata": {},
   "outputs": [],
   "source": [
    "filenum=0\n",
    "for imagedirectory in imagedirectories:\n",
    "    for i, filename in enumerate(os.listdir(imagedirectory)):\n",
    "        image = Image.open(os.path.join(imagedirectory, filename))\n",
    "        X_tr[:,filenum] = np.asarray(image.getdata())\n",
    "        filenum=filenum+1"
   ]
  },
  {
   "cell_type": "code",
   "execution_count": 7,
   "id": "daed421c",
   "metadata": {},
   "outputs": [
    {
     "data": {
      "text/plain": [
       "(361, 31022)"
      ]
     },
     "execution_count": 7,
     "metadata": {},
     "output_type": "execute_result"
    }
   ],
   "source": [
    "X_tr.shape"
   ]
  },
  {
   "cell_type": "code",
   "execution_count": 8,
   "id": "0b7909fb",
   "metadata": {},
   "outputs": [
    {
     "data": {
      "text/plain": [
       "array([[104., 112.,  91., ..., 233., 156., 113.],\n",
       "       [122., 134., 109., ..., 236., 159., 113.],\n",
       "       [142., 160., 132., ..., 240., 165., 117.],\n",
       "       ...,\n",
       "       [109., 127., 123., ..., 199., 167., 149.],\n",
       "       [ 86.,  98.,  78., ..., 195., 164., 150.],\n",
       "       [ 71.,  74.,  83., ..., 190., 156., 151.]])"
      ]
     },
     "execution_count": 8,
     "metadata": {},
     "output_type": "execute_result"
    }
   ],
   "source": [
    "X_tr"
   ]
  },
  {
   "cell_type": "code",
   "execution_count": 9,
   "id": "68a26b55",
   "metadata": {},
   "outputs": [
    {
     "name": "stdout",
     "output_type": "stream",
     "text": [
      "(31022,)\n"
     ]
    }
   ],
   "source": [
    "y_1=np.ones(len(os.listdir('./train/face')))\n",
    "y_2=np.ones(len(os.listdir('./test/face')))\n",
    "y_3=np.ones(len(os.listdir('./train/non-face')))\n",
    "y_4=np.ones(len(os.listdir('./test/non-face')))\n",
    "y_tr=np.append(y_1,y_2)\n",
    "y_tr=np.append(y_tr,-y_3)\n",
    "y_tr=np.append(y_tr,-y_4)\n",
    "print(y_tr.shape)"
   ]
  },
  {
   "cell_type": "code",
   "execution_count": 10,
   "id": "a00ce94c",
   "metadata": {},
   "outputs": [],
   "source": [
    "import numpy as np\n",
    "def calculate_iou(box1, box2):\n",
    "    \"\"\"\n",
    "    Calculate IoU (Intersection over Union) between two bounding boxes.\n",
    "    Each box is represented as (x1, y1, x2, y2).\n",
    "    \"\"\"\n",
    "\n",
    "    x1 = np.maximum(box1[0], box2[0])\n",
    "    y1 = np.maximum(box1[1], box2[1])\n",
    "    x2 = np.minimum(box1[2], box2[2])\n",
    "    y2 = np.minimum(box1[3], box2[3])\n",
    "\n",
    "    intersection_area = np.maximum(0, x2 - x1 + 1) * np.maximum(0, y2 - y1 + 1)\n",
    "\n",
    "    box1_area = (box1[2] - box1[0] + 1) * (box1[3] - box1[1] + 1)\n",
    "    box2_area = (box2[2] - box2[0] + 1) * (box2[3] - box2[1] + 1)\n",
    "\n",
    "    union_area = box1_area + box2_area - intersection_area\n",
    "\n",
    "    iou = intersection_area / union_area\n",
    "\n",
    "    return iou\n",
    "\n",
    "def nms(bboxes, iou_threshold=0.2):\n",
    "    \"\"\"\n",
    "    Apply Non-Maximum Suppression (NMS) on a set of bounding boxes.\n",
    "    Bounding boxes are represented as a numpy array with shape (n, 5),\n",
    "    where n is the number of bounding boxes and each row represents (x1, y1, x2, y2, confidence).\n",
    "    \"\"\"\n",
    "\n",
    "    # Sort the bounding boxes by confidence score in descending order\n",
    "    sorted_indices = np.argsort(bboxes[:, 4])[::-1]\n",
    "    sorted_bboxes = bboxes[sorted_indices]\n",
    "\n",
    "    selected_indices = []\n",
    "\n",
    "    while len(sorted_bboxes) > 0:\n",
    "        current_box = sorted_bboxes[0]\n",
    "        selected_indices.append(sorted_indices[0])\n",
    "\n",
    "        remaining_indices = sorted_indices[1:]\n",
    "        ious = np.array([calculate_iou(current_box[:4], bbox[:4]) for bbox in sorted_bboxes[1:]])\n",
    "\n",
    "        # Find indices of boxes with IoU less than the threshold\n",
    "        #should be called not_overlapping_indices\n",
    "        overlapping_indices = np.where(ious <= iou_threshold)[0]\n",
    "\n",
    "        sorted_indices = remaining_indices[overlapping_indices]\n",
    "        sorted_bboxes = sorted_bboxes[1:][overlapping_indices]\n",
    "\n",
    "    selected_bboxes = bboxes[selected_indices]\n",
    "\n",
    "    return selected_bboxes"
   ]
  },
  {
   "cell_type": "markdown",
   "id": "177ced94",
   "metadata": {},
   "source": [
    "# KL model"
   ]
  },
  {
   "cell_type": "code",
   "execution_count": 11,
   "id": "311e10b4",
   "metadata": {},
   "outputs": [],
   "source": [
    "def train_weak_learner(W,F,sample_weight,y_tr):\n",
    "    minerror=1\n",
    "    mine_threshold=0\n",
    "    mine_sign=-1\n",
    "    mine_f=0\n",
    "    for f in range(F):\n",
    "        thresholds=np.sort(W[f])\n",
    "        arg_thresholds=np.argsort(W[f])\n",
    "        errors=[]\n",
    "        \n",
    "        #consider first threshold and sign=1\n",
    "        prediction=np.ones(W.shape[1])\n",
    "        prediction[W[f]<thresholds[0]]=-1\n",
    "        error=np.sum((prediction!=y_tr)*sample_weight)\n",
    "        if(error<minerror):\n",
    "            minerror=error\n",
    "            mine_threshold=thresholds[0]\n",
    "            mine_sign=1\n",
    "            mine_f=f\n",
    "        errors.append(error)\n",
    "        \n",
    "        #consider first threshold and sign=-1\n",
    "        prediction=np.ones(W.shape[1])\n",
    "        prediction[W[f]>=thresholds[0]]=-1\n",
    "        error=np.sum((prediction!=y_tr)*sample_weight)\n",
    "        if(error<minerror):\n",
    "            minerror=error\n",
    "            mine_threshold=thresholds[0]\n",
    "            mine_sign=-1\n",
    "            mine_f=f\n",
    "        errors.append(error)\n",
    "        \n",
    "        for i in range(1,thresholds.shape[0]):\n",
    "            #consider sign=1 and sign=0\n",
    "            cury=y_tr[arg_thresholds[i-1]]              \n",
    "            if (cury==1):\n",
    "                #when we make threshold move on, we actually change the prediction of arg_thresholds[i-1] instead of  arg_thresholds[i]\n",
    "                errors[0]=errors[0]+sample_weight[arg_thresholds[i-1]]\n",
    "                errors[1]=errors[1]-sample_weight[arg_thresholds[i-1]]\n",
    "            else:\n",
    "                errors[0]=errors[0]-sample_weight[arg_thresholds[i-1]]\n",
    "                errors[1]=errors[1]+sample_weight[arg_thresholds[i-1]]\n",
    "                \n",
    "            if(errors[0]<minerror):\n",
    "                minerror=errors[0]\n",
    "                mine_threshold=thresholds[i]\n",
    "                mine_sign=1\n",
    "                mine_f=f     \n",
    "            if(errors[1]<minerror):\n",
    "                minerror=errors[1]\n",
    "                mine_threshold=thresholds[i]\n",
    "                mine_sign=-1\n",
    "                mine_f=f     \n",
    "\n",
    "    return minerror,mine_f,mine_sign,mine_threshold"
   ]
  },
  {
   "cell_type": "code",
   "execution_count": 12,
   "id": "aa925af5",
   "metadata": {},
   "outputs": [],
   "source": [
    "def get_alpha(e):\n",
    "    return 0.5*np.log((1-e)/e)\n",
    "\n",
    "def adaboost_train(X_tr,y_tr,T,F):\n",
    "    U,S,V=np.linalg.svd(X_tr)\n",
    "    E=U[:,:F]\n",
    "    W=np.linalg.pinv(E)@X_tr\n",
    "    #initialize\n",
    "    sample_weight=np.ones(X_tr.shape[1])/X_tr.shape[1]\n",
    "    weak_learners=[]\n",
    "    for t in range(T):\n",
    "        error,f,sign,threshold=train_weak_learner(W,F,sample_weight,y_tr)\n",
    "#         print(error,f,sign,threshold)\n",
    "        alpha_t=get_alpha(error)\n",
    "        #f表示特征\n",
    "        weak_learners.append([alpha_t,f,sign,threshold])\n",
    "        for j in range(W.shape[1]):\n",
    "            if (W[f][j]>=threshold and sign!=y_tr[j]) or (W[f][j]<threshold and (-sign)!=y_tr[j]):\n",
    "                sample_weight[j]=sample_weight[j]*np.exp(alpha_t)\n",
    "            else:\n",
    "                sample_weight[j]=sample_weight[j]*np.exp(-alpha_t)\n",
    "        sample_weight=sample_weight/np.sum(sample_weight)\n",
    "    return weak_learners,E"
   ]
  },
  {
   "cell_type": "code",
   "execution_count": 13,
   "id": "335955ec",
   "metadata": {},
   "outputs": [],
   "source": [
    "def adaboost_predict(E,X_te,model):\n",
    "    W_te=np.linalg.pinv(E)@X_te\n",
    "    y_pred=[]\n",
    "    for i in range(W_te.shape[1]):\n",
    "        tempsum=0\n",
    "        for weak_learner in model:\n",
    "            alpha=weak_learner[0]\n",
    "            f=weak_learner[1]\n",
    "            sign=weak_learner[2]\n",
    "            threshold=weak_learner[3]\n",
    "            if W_te[f][i]>=threshold:\n",
    "                if sign==1:\n",
    "                    tempsum=tempsum+alpha\n",
    "                else:\n",
    "                    tempsum=tempsum-alpha\n",
    "            else:\n",
    "                if sign==1:\n",
    "                    tempsum=tempsum-alpha\n",
    "                else:\n",
    "                    tempsum=tempsum+alpha\n",
    "        y_pred.append(np.sign(tempsum))\n",
    "    return y_pred"
   ]
  },
  {
   "cell_type": "code",
   "execution_count": 14,
   "id": "f2cc03c6",
   "metadata": {},
   "outputs": [
    {
     "name": "stdout",
     "output_type": "stream",
     "text": [
      "time cost 117.66580510139465 s\n"
     ]
    }
   ],
   "source": [
    "time_start=time.time()\n",
    "model_PCA,eigenfaces=adaboost_train(X_tr,y_tr,200,30)\n",
    "time_end=time.time()\n",
    "print('time cost',time_end-time_start,'s')\n",
    "y_pred_tr_PCA=adaboost_predict(eigenfaces,X_tr,model_PCA)\n",
    "tr_e_PCA=1-np.sum(y_pred_tr_PCA==y_tr)/y_tr.shape[0]"
   ]
  },
  {
   "cell_type": "code",
   "execution_count": 15,
   "id": "86ec768f",
   "metadata": {},
   "outputs": [
    {
     "data": {
      "text/plain": [
       "['model_PCA_30.joblib']"
      ]
     },
     "execution_count": 15,
     "metadata": {},
     "output_type": "execute_result"
    }
   ],
   "source": [
    "dump(model_PCA, 'model_PCA_30.joblib')"
   ]
  },
  {
   "cell_type": "code",
   "execution_count": 16,
   "id": "7a1b66ae",
   "metadata": {},
   "outputs": [],
   "source": [
    "# loaded_model = load('model_PCA_30.joblib')"
   ]
  },
  {
   "cell_type": "code",
   "execution_count": 17,
   "id": "82f9983a",
   "metadata": {},
   "outputs": [
    {
     "data": {
      "text/plain": [
       "0.027915672748372145"
      ]
     },
     "execution_count": 17,
     "metadata": {},
     "output_type": "execute_result"
    }
   ],
   "source": [
    "tr_e_PCA"
   ]
  },
  {
   "cell_type": "markdown",
   "id": "c87e7524",
   "metadata": {},
   "source": [
    "# ICA model"
   ]
  },
  {
   "cell_type": "code",
   "execution_count": 18,
   "id": "386b8f33",
   "metadata": {},
   "outputs": [],
   "source": [
    "def ICA(M):\n",
    "    mu=np.mean(M,axis=1,keepdims=True) #(4096,1)\n",
    "    M=M-mu # (4096,1071)\n",
    "    R_MM=M@np.transpose(M) #(4096,4096)\n",
    "    E,diag,temp=np.linalg.svd(R_MM) # (4096,4096)\n",
    "    C=np.diag(diag**(-0.5))@np.transpose(E) #(4096,4096)@(4096,4096)= (4096,4096)\n",
    "    X=C@M #(4096,4096)@(4096,1071)=(4096,1071)  \n",
    "#     print('mean of each row:',np.mean(X,axis=1))\n",
    "#     print('variance of each row:',np.var(X,axis=1))\n",
    "    X_col_norm=np.sum(X**2,axis=0) #(1071,1)\n",
    "    D=(X@(X*X_col_norm).T)/X.shape[1] #(4096,4096)\n",
    "    U,eigenvalue,temp=np.linalg.svd(D)\n",
    "    A=np.transpose(U)@C\n",
    "    H=A@M\n",
    "    #return H+mean\n",
    "    ICA_faces=H+mu\n",
    "    return ICA_faces"
   ]
  },
  {
   "cell_type": "code",
   "execution_count": 19,
   "id": "fa540881",
   "metadata": {},
   "outputs": [],
   "source": [
    "def getICA(M):\n",
    "    ICA_faces=ICA(M)\n",
    "    return ICA_faces"
   ]
  },
  {
   "cell_type": "code",
   "execution_count": 20,
   "id": "530b20e4",
   "metadata": {},
   "outputs": [],
   "source": [
    "def adaboost_train(X_tr,y_tr,T,F,ICA_faces):\n",
    "#     minerrors=[]\n",
    "    W=np.linalg.pinv(ICA_faces)@X_tr\n",
    "    #initialize\n",
    "    sample_weight=np.ones(X_tr.shape[1])/X_tr.shape[1]\n",
    "    weak_learners=[]\n",
    "    for t in range(T):\n",
    "        error,f,sign,threshold=train_weak_learner(W,F,sample_weight,y_tr)\n",
    "#         minerrors.append(error)\n",
    "        alpha_t=get_alpha(error)\n",
    "        #f表示特征\n",
    "        weak_learners.append([alpha_t,f,sign,threshold])\n",
    "        for j in range(W.shape[1]):\n",
    "            if (W[f][j]>=threshold and sign!=y_tr[j]) or (W[f][j]<threshold and (-sign)!=y_tr[j]):\n",
    "                sample_weight[j]=sample_weight[j]*np.exp(alpha_t)\n",
    "            else:\n",
    "                sample_weight[j]=sample_weight[j]*np.exp(-alpha_t)\n",
    "        sample_weight=sample_weight/np.sum(sample_weight)\n",
    "    return weak_learners"
   ]
  },
  {
   "cell_type": "code",
   "execution_count": 21,
   "id": "366f2468",
   "metadata": {},
   "outputs": [],
   "source": [
    "def adaboost_predict(ICA_faces,X_te,model):\n",
    "    W_te=np.linalg.pinv(ICA_faces)@X_te\n",
    "    y_pred=[]\n",
    "    for i in range(W_te.shape[1]):\n",
    "        tempsum=0\n",
    "        for weak_learner in model:\n",
    "            alpha=weak_learner[0]\n",
    "            f=weak_learner[1]\n",
    "            sign=weak_learner[2]\n",
    "            threshold=weak_learner[3]\n",
    "            if W_te[f][i]>=threshold:\n",
    "                if sign==1:\n",
    "                    tempsum=tempsum+alpha\n",
    "                else:\n",
    "                    tempsum=tempsum-alpha\n",
    "            else:\n",
    "                if sign==1:\n",
    "                    tempsum=tempsum-alpha\n",
    "                else:\n",
    "                    tempsum=tempsum+alpha\n",
    "        y_pred.append(np.sign(tempsum))\n",
    "    return y_pred"
   ]
  },
  {
   "cell_type": "code",
   "execution_count": 22,
   "id": "f49dea5d",
   "metadata": {},
   "outputs": [],
   "source": [
    "k=50\n",
    "ICA_faces=getICA(X_tr)\n",
    "model_ICA=adaboost_train(X_tr,y_tr,200,k,ICA_faces[:,:k])\n",
    "y_pred_tr_ICA=adaboost_predict(ICA_faces[:,:k],X_tr,model_ICA)\n",
    "tr_e_ICA=1-np.sum(y_pred_tr_ICA==y_tr)/y_tr.shape[0]"
   ]
  },
  {
   "cell_type": "code",
   "execution_count": 23,
   "id": "7097ab23",
   "metadata": {},
   "outputs": [
    {
     "name": "stdout",
     "output_type": "stream",
     "text": [
      "0.04516149829153504\n"
     ]
    }
   ],
   "source": [
    "print(tr_e_ICA)"
   ]
  },
  {
   "cell_type": "markdown",
   "id": "e2c71210",
   "metadata": {},
   "source": [
    "# KL face detection"
   ]
  },
  {
   "cell_type": "code",
   "execution_count": 24,
   "id": "ad30f959",
   "metadata": {},
   "outputs": [],
   "source": [
    "#(0.69,0.52)\n",
    "row_scale_factor=0.52\n",
    "column_scale_factor=0.69"
   ]
  },
  {
   "cell_type": "code",
   "execution_count": 25,
   "id": "cb1eac8c",
   "metadata": {},
   "outputs": [
    {
     "data": {
      "image/png": "[encoded data removed]",
      "text/plain": [
       "<PIL.Image.Image image mode=L size=422x267>"
      ]
     },
     "execution_count": 25,
     "metadata": {},
     "output_type": "execute_result"
    }
   ],
   "source": [
    "image = Image.open('BBC_1966.png')\n",
    "nrows, ncolumns = image.height, image.width\n",
    "# size – The requested size in pixels, as a 2-tuple: (width, height). \n",
    "image_resized=image.resize((int(ncolumns*column_scale_factor),int(nrows*row_scale_factor)))\n",
    "image_resized"
   ]
  },
  {
   "cell_type": "code",
   "execution_count": 26,
   "id": "7459be66",
   "metadata": {},
   "outputs": [],
   "source": [
    "# image = image_resized.convert(\"RGB\")\n",
    "# draw = ImageDraw.Draw(image)\n",
    "# x1=96\n",
    "# y1=27\n",
    "# draw.rectangle((x1,y1,x1+18,y1+18),outline='red')\n",
    "# image.show()"
   ]
  },
  {
   "cell_type": "code",
   "execution_count": 27,
   "id": "c8335530",
   "metadata": {},
   "outputs": [],
   "source": [
    "# image = image_resized.convert(\"RGB\")\n",
    "# draw = ImageDraw.Draw(image)\n",
    "# x1=218\n",
    "# y1=28\n",
    "# draw.rectangle((x1,y1,x1+18,y1+18),outline='red')\n",
    "# image.show()"
   ]
  },
  {
   "cell_type": "code",
   "execution_count": 28,
   "id": "8c0ab3fd",
   "metadata": {},
   "outputs": [],
   "source": [
    "nrows, ncolumns = image_resized.height, image_resized.width\n",
    "X_BBC=np.asarray(image_resized.getdata())\n",
    "X_BBC=X_BBC.reshape(nrows,ncolumns)"
   ]
  },
  {
   "cell_type": "code",
   "execution_count": 29,
   "id": "c9b560b8",
   "metadata": {},
   "outputs": [
    {
     "data": {
      "text/plain": [
       "(267, 422)"
      ]
     },
     "execution_count": 29,
     "metadata": {},
     "output_type": "execute_result"
    }
   ],
   "source": [
    "X_BBC.shape"
   ]
  },
  {
   "cell_type": "code",
   "execution_count": 30,
   "id": "308dd60e",
   "metadata": {},
   "outputs": [
    {
     "name": "stdout",
     "output_type": "stream",
     "text": [
      "267 422\n"
     ]
    }
   ],
   "source": [
    "print(nrows, ncolumns)"
   ]
  },
  {
   "cell_type": "code",
   "execution_count": 31,
   "id": "0a8dbf87",
   "metadata": {},
   "outputs": [],
   "source": [
    "def adaboost_predict(E,X,model):\n",
    "    X=X.reshape(361,1)\n",
    "    W=np.linalg.pinv(E)@X\n",
    "    tempsum=0\n",
    "    for weak_learner in model:\n",
    "        alpha=weak_learner[0]\n",
    "        f=weak_learner[1]\n",
    "        sign=weak_learner[2]\n",
    "        threshold=weak_learner[3]\n",
    "        if W[f][0]>=threshold:\n",
    "            if sign==1:\n",
    "                tempsum=tempsum+alpha\n",
    "            else:\n",
    "                tempsum=tempsum-alpha\n",
    "        else:\n",
    "            if sign==1:\n",
    "                tempsum=tempsum-alpha\n",
    "            else:\n",
    "                tempsum=tempsum+alpha\n",
    "    y_pred=tempsum\n",
    "    return y_pred"
   ]
  },
  {
   "cell_type": "code",
   "execution_count": 32,
   "id": "89a2c8a7",
   "metadata": {},
   "outputs": [],
   "source": [
    "box_PCA=np.zeros((nrows-18,ncolumns-18,5))\n",
    "for row in range(nrows-18):\n",
    "    for col in range(ncolumns-18):\n",
    "        box_PCA[row][col][0]=row\n",
    "        box_PCA[row][col][1]=col\n",
    "        box_PCA[row][col][2]=row+18\n",
    "        box_PCA[row][col][3]=col+18\n",
    "        box_PCA[row][col][4]=adaboost_predict(eigenfaces,X_BBC[row:row+19,col:col+19],model_PCA)"
   ]
  },
  {
   "cell_type": "code",
   "execution_count": 33,
   "id": "cb6d4b74",
   "metadata": {},
   "outputs": [],
   "source": [
    "bboxes_PCA=box_PCA.reshape(((nrows-18)*(ncolumns-18),5))"
   ]
  },
  {
   "cell_type": "code",
   "execution_count": 34,
   "id": "84e02554",
   "metadata": {},
   "outputs": [],
   "source": [
    "selected_bboxes_PCA=nms(bboxes_PCA)"
   ]
  },
  {
   "cell_type": "code",
   "execution_count": 54,
   "id": "cdf02a6c",
   "metadata": {},
   "outputs": [
    {
     "data": {
      "text/plain": [
       "(546, 5)"
      ]
     },
     "execution_count": 54,
     "metadata": {},
     "output_type": "execute_result"
    }
   ],
   "source": [
    "selected_bboxes_PCA.shape"
   ]
  },
  {
   "cell_type": "markdown",
   "id": "7e7d6d90",
   "metadata": {},
   "source": [
    "I have got totally 546 bounding boxes by using nms"
   ]
  },
  {
   "cell_type": "code",
   "execution_count": 56,
   "id": "a18fb5e6",
   "metadata": {},
   "outputs": [],
   "source": [
    "# plot all the bounding boxes\n",
    "image = image_resized.convert(\"RGB\")\n",
    "draw = ImageDraw.Draw(image)\n",
    "for box in selected_bboxes_PCA:\n",
    "#     print(box[0],box[1],box[2],box[3])\n",
    "    x1 = int(box[1])\n",
    "    y1 = int(box[0])\n",
    "    x2 = int(box[3])\n",
    "    y2 = int(box[2])\n",
    "    draw.rectangle((x1,y1,x2,y2),outline='red')\n",
    "image.show()"
   ]
  },
  {
   "cell_type": "code",
   "execution_count": 57,
   "id": "30e7af1b",
   "metadata": {},
   "outputs": [],
   "source": [
    "image.save('all bounding boxes.png')"
   ]
  },
  {
   "cell_type": "code",
   "execution_count": 63,
   "id": "b61504a8",
   "metadata": {},
   "outputs": [],
   "source": [
    "df=pd.DataFrame(selected_bboxes_PCA[:,:4])"
   ]
  },
  {
   "cell_type": "code",
   "execution_count": 64,
   "id": "9d91051a",
   "metadata": {},
   "outputs": [
    {
     "data": {
      "text/plain": [
       "(546, 4)"
      ]
     },
     "execution_count": 64,
     "metadata": {},
     "output_type": "execute_result"
    }
   ],
   "source": [
    "df.shape"
   ]
  },
  {
   "cell_type": "code",
   "execution_count": 66,
   "id": "e811026b",
   "metadata": {},
   "outputs": [],
   "source": [
    "df.to_csv('bboxes.csv')"
   ]
  },
  {
   "cell_type": "code",
   "execution_count": 35,
   "id": "f13a2dd8",
   "metadata": {},
   "outputs": [],
   "source": [
    "selected_bboxes_PCA_save5269=selected_bboxes_PCA"
   ]
  },
  {
   "cell_type": "code",
   "execution_count": 71,
   "id": "18b6b888",
   "metadata": {},
   "outputs": [
    {
     "data": {
      "text/plain": [
       "array([[9.90000000e+01, 1.57000000e+02, 1.17000000e+02, 1.75000000e+02,\n",
       "        9.71844892e-01],\n",
       "       [3.90000000e+01, 5.00000000e+01, 5.70000000e+01, 6.80000000e+01,\n",
       "        7.45269234e-01],\n",
       "       [5.70000000e+01, 2.59000000e+02, 7.50000000e+01, 2.77000000e+02,\n",
       "        4.47894946e-01],\n",
       "       [2.20000000e+01, 2.66000000e+02, 4.00000000e+01, 2.84000000e+02,\n",
       "        3.97864036e-01],\n",
       "       [7.80000000e+01, 3.19000000e+02, 9.60000000e+01, 3.37000000e+02,\n",
       "        3.73567353e-01],\n",
       "       [1.34000000e+02, 2.34000000e+02, 1.52000000e+02, 2.52000000e+02,\n",
       "        3.57411785e-01],\n",
       "       [0.00000000e+00, 3.70000000e+02, 1.80000000e+01, 3.88000000e+02,\n",
       "        3.34090146e-01],\n",
       "       [8.60000000e+01, 3.77000000e+02, 1.04000000e+02, 3.95000000e+02,\n",
       "        2.81581473e-01],\n",
       "       [8.00000000e+01, 9.30000000e+01, 9.80000000e+01, 1.11000000e+02,\n",
       "        2.33188868e-01],\n",
       "       [8.60000000e+01, 3.01000000e+02, 1.04000000e+02, 3.19000000e+02,\n",
       "        2.16618401e-01],\n",
       "       [3.70000000e+01, 1.86000000e+02, 5.50000000e+01, 2.04000000e+02,\n",
       "        1.67316338e-01],\n",
       "       [1.20000000e+02, 3.04000000e+02, 1.38000000e+02, 3.22000000e+02,\n",
       "        1.28164753e-01],\n",
       "       [1.98000000e+02, 3.49000000e+02, 2.16000000e+02, 3.67000000e+02,\n",
       "        1.10605153e-01],\n",
       "       [3.90000000e+01, 1.00000000e+01, 5.70000000e+01, 2.80000000e+01,\n",
       "        4.09770059e-02]])"
      ]
     },
     "execution_count": 71,
     "metadata": {},
     "output_type": "execute_result"
    }
   ],
   "source": [
    "selected_bboxes_PCA[:14]"
   ]
  },
  {
   "cell_type": "code",
   "execution_count": 78,
   "id": "df3f656f",
   "metadata": {},
   "outputs": [
    {
     "data": {
      "text/plain": [
       "array([[ 2.20000000e+01,  2.66000000e+02,  4.00000000e+01,\n",
       "         2.84000000e+02,  3.97864036e-01],\n",
       "       [ 7.80000000e+01,  3.19000000e+02,  9.60000000e+01,\n",
       "         3.37000000e+02,  3.73567353e-01],\n",
       "       [ 3.70000000e+01,  1.86000000e+02,  5.50000000e+01,\n",
       "         2.04000000e+02,  1.67316338e-01],\n",
       "       [ 8.20000000e+01,  2.41000000e+02,  1.00000000e+02,\n",
       "         2.59000000e+02, -1.20667764e-01],\n",
       "       [ 7.80000000e+01,  1.66000000e+02,  9.60000000e+01,\n",
       "         1.84000000e+02, -1.44067455e-01],\n",
       "       [ 2.60000000e+01,  3.39000000e+02,  4.40000000e+01,\n",
       "         3.57000000e+02, -3.25077563e-01],\n",
       "       [ 2.80000000e+01,  9.70000000e+01,  4.60000000e+01,\n",
       "         1.15000000e+02, -3.74617987e-01]])"
      ]
     },
     "execution_count": 78,
     "metadata": {},
     "output_type": "execute_result"
    }
   ],
   "source": [
    "#3,4,10,15,17,25,28\n",
    "my_PCA_choice=selected_bboxes_PCA[[3,4,10,15,17,25,28]]\n",
    "my_PCA_choice"
   ]
  },
  {
   "cell_type": "code",
   "execution_count": 37,
   "id": "8afa252f",
   "metadata": {},
   "outputs": [],
   "source": [
    "# plot red rectangle\n",
    "image = image_resized.convert(\"RGB\")\n",
    "draw = ImageDraw.Draw(image)\n",
    "for box in my_PCA_choice:\n",
    "#     print(box[0],box[1],box[2],box[3])\n",
    "    x1 = int(box[1])\n",
    "    y1 = int(box[0])\n",
    "    x2 = int(box[3])\n",
    "    y2 = int(box[2])\n",
    "    draw.rectangle((x1,y1,x2,y2),outline='red')\n",
    "image.show()"
   ]
  },
  {
   "cell_type": "code",
   "execution_count": 69,
   "id": "412c56b2",
   "metadata": {},
   "outputs": [
    {
     "name": "stdout",
     "output_type": "stream",
     "text": [
      "385 42 411 76\n",
      "462 150 488 184\n",
      "269 71 295 105\n",
      "349 157 375 192\n",
      "240 150 266 184\n",
      "491 50 517 84\n",
      "140 53 166 88\n"
     ]
    }
   ],
   "source": [
    "image = Image.open('BBC_1966.png')\n",
    "# plot red rectangle\n",
    "image = image.convert(\"RGB\")\n",
    "draw = ImageDraw.Draw(image)\n",
    "for box in my_PCA_choice:\n",
    "#     print(box[0],box[1],box[2],box[3])\n",
    "    x1 = int(box[1]/column_scale_factor)\n",
    "    y1 = int(box[0]/row_scale_factor)\n",
    "    x2 = int(box[3]/column_scale_factor)\n",
    "    y2 = int(box[2]/row_scale_factor)\n",
    "    print(x1,y1,x2,y2)\n",
    "    draw.rectangle((x1,y1,x2,y2),outline='red')\n",
    "image.show()"
   ]
  },
  {
   "cell_type": "code",
   "execution_count": 79,
   "id": "8e7d69bb",
   "metadata": {},
   "outputs": [],
   "source": [
    "my_final_result=[]\n",
    "for box in my_PCA_choice:\n",
    "    my_final_result.append([int(box[0]/row_scale_factor),int(box[1]/column_scale_factor),int(box[2]/row_scale_factor),int(box[3]/column_scale_factor)])"
   ]
  },
  {
   "cell_type": "code",
   "execution_count": 81,
   "id": "d7aa9bfc",
   "metadata": {},
   "outputs": [],
   "source": [
    "my_final_result_coordinate=[]\n",
    "for box in my_PCA_choice:\n",
    "    my_final_result_coordinate.append([int(box[1]/column_scale_factor),int(box[0]/row_scale_factor),int(box[3]/column_scale_factor),int(box[2]/row_scale_factor)])"
   ]
  },
  {
   "cell_type": "markdown",
   "id": "0c6bb454",
   "metadata": {},
   "source": [
    "# ICA face detection"
   ]
  },
  {
   "cell_type": "code",
   "execution_count": 40,
   "id": "0fed4955",
   "metadata": {},
   "outputs": [],
   "source": [
    "#(0.69,0.52)\n",
    "row_scale_factor=0.52\n",
    "column_scale_factor=0.69"
   ]
  },
  {
   "cell_type": "code",
   "execution_count": 41,
   "id": "eada172e",
   "metadata": {},
   "outputs": [
    {
     "data": {
      "image/png": "[encoded data removed]",
      "text/plain": [
       "<PIL.Image.Image image mode=L size=422x267>"
      ]
     },
     "execution_count": 41,
     "metadata": {},
     "output_type": "execute_result"
    }
   ],
   "source": [
    "image = Image.open('BBC_1966.png')\n",
    "nrows, ncolumns = image.height, image.width\n",
    "# size – The requested size in pixels, as a 2-tuple: (width, height). \n",
    "image_resized=image.resize((int(ncolumns*column_scale_factor),int(nrows*row_scale_factor)))\n",
    "image_resized"
   ]
  },
  {
   "cell_type": "code",
   "execution_count": 42,
   "id": "59729b88",
   "metadata": {},
   "outputs": [],
   "source": [
    "nrows, ncolumns = image_resized.height, image_resized.width\n",
    "X_BBC=np.asarray(image_resized.getdata())\n",
    "X_BBC=X_BBC.reshape(nrows,ncolumns)"
   ]
  },
  {
   "cell_type": "code",
   "execution_count": 43,
   "id": "2dcaea5b",
   "metadata": {},
   "outputs": [],
   "source": [
    "def adaboost_predict(ICA_faces,X,model):\n",
    "    X=X.reshape(361,1)\n",
    "    W=np.linalg.pinv(ICA_faces)@X\n",
    "    tempsum=0\n",
    "    for weak_learner in model:\n",
    "        alpha=weak_learner[0]\n",
    "        f=weak_learner[1]\n",
    "        sign=weak_learner[2]\n",
    "        threshold=weak_learner[3]\n",
    "        if W[f][0]>=threshold:\n",
    "            if sign==1:\n",
    "                tempsum=tempsum+alpha\n",
    "            else:\n",
    "                tempsum=tempsum-alpha\n",
    "        else:\n",
    "            if sign==1:\n",
    "                tempsum=tempsum-alpha\n",
    "            else:\n",
    "                tempsum=tempsum+alpha\n",
    "    y_pred=tempsum\n",
    "    return y_pred"
   ]
  },
  {
   "cell_type": "code",
   "execution_count": 44,
   "id": "93b96711",
   "metadata": {},
   "outputs": [
    {
     "data": {
      "text/plain": [
       "(361, 31022)"
      ]
     },
     "execution_count": 44,
     "metadata": {},
     "output_type": "execute_result"
    }
   ],
   "source": [
    "ICA_faces.shape"
   ]
  },
  {
   "cell_type": "code",
   "execution_count": 45,
   "id": "86f07f63",
   "metadata": {},
   "outputs": [],
   "source": [
    "box=np.zeros((nrows-18,ncolumns-18,5))\n",
    "for row in range(nrows-18):\n",
    "    for col in range(ncolumns-18):\n",
    "        box[row][col][0]=row\n",
    "        box[row][col][1]=col\n",
    "        box[row][col][2]=row+18\n",
    "        box[row][col][3]=col+18\n",
    "        box[row][col][4]=adaboost_predict(ICA_faces[:,:50],X_BBC[row:row+19,col:col+19],model_ICA)"
   ]
  },
  {
   "cell_type": "code",
   "execution_count": 46,
   "id": "82bd6b05",
   "metadata": {},
   "outputs": [],
   "source": [
    "bboxes=box.reshape(((nrows-18)*(ncolumns-18),5))"
   ]
  },
  {
   "cell_type": "code",
   "execution_count": 47,
   "id": "27f8c67e",
   "metadata": {},
   "outputs": [],
   "source": [
    "selected_bboxes=nms(bboxes)"
   ]
  },
  {
   "cell_type": "code",
   "execution_count": 48,
   "id": "e35bdea1",
   "metadata": {},
   "outputs": [
    {
     "data": {
      "text/plain": [
       "array([[ 2.50000000e+01,  3.70000000e+02,  4.30000000e+01,\n",
       "         3.88000000e+02,  1.07147044e+00],\n",
       "       [ 8.50000000e+01,  3.11000000e+02,  1.03000000e+02,\n",
       "         3.29000000e+02,  6.78858598e-01],\n",
       "       [ 1.19000000e+02,  3.09000000e+02,  1.37000000e+02,\n",
       "         3.27000000e+02,  5.16324637e-01],\n",
       "       [ 1.65000000e+02,  2.70000000e+02,  1.83000000e+02,\n",
       "         2.88000000e+02,  3.60662955e-01],\n",
       "       [ 2.70000000e+01,  1.05000000e+02,  4.50000000e+01,\n",
       "         1.23000000e+02,  2.06031205e-01],\n",
       "       [ 6.80000000e+01,  9.20000000e+01,  8.60000000e+01,\n",
       "         1.10000000e+02,  1.99504744e-01],\n",
       "       [ 5.50000000e+01,  2.60000000e+02,  7.30000000e+01,\n",
       "         2.78000000e+02,  1.82003444e-01],\n",
       "       [ 2.20000000e+01,  2.74000000e+02,  4.00000000e+01,\n",
       "         2.92000000e+02,  1.61967066e-01],\n",
       "       [ 6.00000000e+00,  3.70000000e+02,  2.40000000e+01,\n",
       "         3.88000000e+02,  1.19009630e-01],\n",
       "       [ 9.10000000e+01,  2.20000000e+02,  1.09000000e+02,\n",
       "         2.38000000e+02,  1.05871082e-02],\n",
       "       [ 5.20000000e+01,  9.40000000e+01,  7.00000000e+01,\n",
       "         1.12000000e+02,  9.04421414e-03],\n",
       "       [ 2.42000000e+02,  2.28000000e+02,  2.60000000e+02,\n",
       "         2.46000000e+02,  4.46791151e-03],\n",
       "       [ 6.20000000e+01,  1.54000000e+02,  8.00000000e+01,\n",
       "         1.72000000e+02, -1.52922014e-02],\n",
       "       [ 9.20000000e+01,  1.52000000e+02,  1.10000000e+02,\n",
       "         1.70000000e+02, -2.23303610e-02]])"
      ]
     },
     "execution_count": 48,
     "metadata": {},
     "output_type": "execute_result"
    }
   ],
   "source": [
    "ICA_final_face=selected_bboxes[:14]\n",
    "ICA_final_face"
   ]
  },
  {
   "cell_type": "code",
   "execution_count": 49,
   "id": "87f08fb9",
   "metadata": {},
   "outputs": [
    {
     "name": "stdout",
     "output_type": "stream",
     "text": [
      "370 25 388 43\n",
      "311 85 329 103\n",
      "309 119 327 137\n",
      "270 165 288 183\n",
      "105 27 123 45\n",
      "92 68 110 86\n",
      "260 55 278 73\n",
      "274 22 292 40\n",
      "370 6 388 24\n",
      "220 91 238 109\n",
      "94 52 112 70\n",
      "228 242 246 260\n",
      "154 62 172 80\n",
      "152 92 170 110\n"
     ]
    }
   ],
   "source": [
    "# plot red rectangle\n",
    "image = image_resized.convert(\"RGB\")\n",
    "draw = ImageDraw.Draw(image)\n",
    "for box in ICA_final_face:\n",
    "#     print(box[0],box[1],box[2],box[3])\n",
    "    x1 = int(box[1])\n",
    "    y1 = int(box[0])\n",
    "    x2 = int(box[3])\n",
    "    y2 = int(box[2])\n",
    "    print(x1,y1,x2,y2)\n",
    "    draw.rectangle((x1,y1,x2,y2),outline='red')\n",
    "image.show()"
   ]
  },
  {
   "cell_type": "code",
   "execution_count": 50,
   "id": "a98ed1fd",
   "metadata": {},
   "outputs": [
    {
     "name": "stdout",
     "output_type": "stream",
     "text": [
      "536 48 562 82\n",
      "450 163 476 198\n",
      "447 228 473 263\n",
      "391 317 417 351\n",
      "152 51 178 86\n",
      "133 130 159 165\n",
      "376 105 402 140\n",
      "397 42 423 76\n",
      "536 11 562 46\n",
      "318 175 344 209\n",
      "136 100 162 134\n",
      "330 465 356 500\n",
      "223 119 249 153\n",
      "220 176 246 211\n"
     ]
    }
   ],
   "source": [
    "image = Image.open('BBC_1966.png')\n",
    "# plot red rectangle\n",
    "image = image.convert(\"RGB\")\n",
    "draw = ImageDraw.Draw(image)\n",
    "for box in ICA_final_face:\n",
    "#     print(box[0],box[1],box[2],box[3])\n",
    "    x1 = int(box[1]/column_scale_factor)\n",
    "    y1 = int(box[0]/row_scale_factor)\n",
    "    x2 = int(box[3]/column_scale_factor)\n",
    "    y2 = int(box[2]/row_scale_factor)\n",
    "    print(x1,y1,x2,y2)\n",
    "    draw.rectangle((x1,y1,x2,y2),outline='red')\n",
    "image.show()"
   ]
  },
  {
   "cell_type": "markdown",
   "id": "29958c1e",
   "metadata": {},
   "source": [
    "# My Final Result"
   ]
  },
  {
   "cell_type": "markdown",
   "id": "7d54a038",
   "metadata": {},
   "source": [
    "My final result is seven faces I pick from top 29 confidence score rectangles"
   ]
  },
  {
   "cell_type": "code",
   "execution_count": 82,
   "id": "d7d4f821",
   "metadata": {},
   "outputs": [
    {
     "data": {
      "text/plain": [
       "[[42, 385, 76, 411],\n",
       " [150, 462, 184, 488],\n",
       " [71, 269, 105, 295],\n",
       " [157, 349, 192, 375],\n",
       " [150, 240, 184, 266],\n",
       " [50, 491, 84, 517],\n",
       " [53, 140, 88, 166]]"
      ]
     },
     "execution_count": 82,
     "metadata": {},
     "output_type": "execute_result"
    }
   ],
   "source": [
    "my_final_result"
   ]
  },
  {
   "cell_type": "markdown",
   "id": "eecb95d1",
   "metadata": {},
   "source": [
    "And here x1 means row, while y1 means column.  \n",
    "If you put it in to an x-y coordinate, the final result will be:"
   ]
  },
  {
   "cell_type": "code",
   "execution_count": 84,
   "id": "d063da6e",
   "metadata": {},
   "outputs": [
    {
     "data": {
      "text/plain": [
       "[[385, 42, 411, 76],\n",
       " [462, 150, 488, 184],\n",
       " [269, 71, 295, 105],\n",
       " [349, 157, 375, 192],\n",
       " [240, 150, 266, 184],\n",
       " [491, 50, 517, 84],\n",
       " [140, 53, 166, 88]]"
      ]
     },
     "execution_count": 84,
     "metadata": {},
     "output_type": "execute_result"
    }
   ],
   "source": [
    "my_final_result_coordinate"
   ]
  },
  {
   "cell_type": "code",
   "execution_count": null,
   "id": "79030ed5",
   "metadata": {},
   "outputs": [],
   "source": []
  }
 ],
 "metadata": {
  "kernelspec": {
   "display_name": "Python 3 (ipykernel)",
   "language": "python",
   "name": "python3"
  },
  "language_info": {
   "codemirror_mode": {
    "name": "ipython",
    "version": 3
   },
   "file_extension": ".py",
   "mimetype": "text/x-python",
   "name": "python",
   "nbconvert_exporter": "python",
   "pygments_lexer": "ipython3",
   "version": "3.11.4"
  }
 },
 "nbformat": 4,
 "nbformat_minor": 5
}
