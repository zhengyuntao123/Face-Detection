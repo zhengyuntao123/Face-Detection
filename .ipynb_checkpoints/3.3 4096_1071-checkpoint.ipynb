{
 "cells": [
  {
   "cell_type": "code",
   "execution_count": 1,
   "id": "ce23edc2",
   "metadata": {},
   "outputs": [],
   "source": [
    "import os\n",
    "from PIL import Image\n",
    "import numpy as np\n",
    "from matplotlib import pyplot as plt\n",
    "import pandas as pd\n",
    "import time"
   ]
  },
  {
   "cell_type": "code",
   "execution_count": 2,
   "id": "c5a9ea3e",
   "metadata": {},
   "outputs": [],
   "source": [
    "imagedirectory='./lfw1000'\n",
    "image = Image.open(os.path.join(imagedirectory, os.listdir(imagedirectory)[0]))"
   ]
  },
  {
   "cell_type": "code",
   "execution_count": 3,
   "id": "3377900f",
   "metadata": {},
   "outputs": [],
   "source": [
    "nrows, ncolumns = image.height, image.width"
   ]
  },
  {
   "cell_type": "code",
   "execution_count": 4,
   "id": "6d6670d2",
   "metadata": {},
   "outputs": [],
   "source": [
    "nimages=len(os.listdir(imagedirectory))"
   ]
  },
  {
   "cell_type": "code",
   "execution_count": 5,
   "id": "2a5bffed",
   "metadata": {},
   "outputs": [
    {
     "data": {
      "text/plain": [
       "(4096, 1071)"
      ]
     },
     "execution_count": 5,
     "metadata": {},
     "output_type": "execute_result"
    }
   ],
   "source": [
    "M=np.empty([nrows*ncolumns,nimages])\n",
    "M.shape"
   ]
  },
  {
   "cell_type": "code",
   "execution_count": 6,
   "id": "dddcc4b8",
   "metadata": {},
   "outputs": [],
   "source": [
    "for i, filename in enumerate(os.listdir(imagedirectory)):\n",
    "    image = Image.open(os.path.join(imagedirectory, filename))\n",
    "    M[:,i] = np.asarray(image.getdata())"
   ]
  },
  {
   "cell_type": "code",
   "execution_count": 7,
   "id": "8680fe0d",
   "metadata": {},
   "outputs": [
    {
     "data": {
      "text/plain": [
       "(4096, 1071)"
      ]
     },
     "execution_count": 7,
     "metadata": {},
     "output_type": "execute_result"
    }
   ],
   "source": [
    "M.shape"
   ]
  },
  {
   "cell_type": "code",
   "execution_count": 8,
   "id": "59bda907",
   "metadata": {},
   "outputs": [
    {
     "data": {
      "text/plain": [
       "array([[133., 216.,  62., ...,  22.,  85., 144.],\n",
       "       [155., 212.,  87., ...,  28.,  96., 147.],\n",
       "       [164., 210., 118., ...,  38.,  97., 148.],\n",
       "       ...,\n",
       "       [ 63., 109.,  30., ...,  50., 133.,  19.],\n",
       "       [ 62., 108.,  36., ...,  47., 144.,  17.],\n",
       "       [ 65., 109.,  43., ...,  31., 135.,  19.]])"
      ]
     },
     "execution_count": 8,
     "metadata": {},
     "output_type": "execute_result"
    }
   ],
   "source": [
    "M"
   ]
  },
  {
   "cell_type": "code",
   "execution_count": 9,
   "id": "a0389e56",
   "metadata": {},
   "outputs": [],
   "source": [
    "def ICA(M):\n",
    "    mu=np.mean(M,axis=1,keepdims=True) #(4096,1)\n",
    "    M=M-mu # (4096,1071)\n",
    "    R_MM=M@np.transpose(M) #(4096,4096)\n",
    "    E,diag,temp=np.linalg.svd(R_MM) # (4096,4096)\n",
    "    C=np.diag(diag**(-0.5))@np.transpose(E) #(4096,4096)@(4096,4096)= (4096,4096)\n",
    "    X=C@M #(4096,4096)@(4096,1071)=(4096,1071)  \n",
    "#     print('mean of each row:',np.mean(X,axis=1))\n",
    "#     print('variance of each row:',np.var(X,axis=1))\n",
    "    X_col_norm=np.sum(X**2,axis=0) #(1071,1)\n",
    "    D=(X@(X*X_col_norm).T)/X.shape[1] #(4096,4096)\n",
    "    U,eigenvalue,temp=np.linalg.svd(D)\n",
    "    A=np.transpose(U)@C\n",
    "    H=A@M\n",
    "    #return H+mean\n",
    "    ICA_faces=H+mu\n",
    "    return ICA_faces"
   ]
  },
  {
   "cell_type": "code",
   "execution_count": 10,
   "id": "5134f126",
   "metadata": {},
   "outputs": [],
   "source": [
    "ICA_faces=ICA(M)"
   ]
  },
  {
   "cell_type": "code",
   "execution_count": 32,
   "id": "8a086bf4",
   "metadata": {},
   "outputs": [
    {
     "data": {
      "image/png": "[encoded data removed]",
      "text/plain": [
       "<Figure size 640x480 with 1 Axes>"
      ]
     },
     "metadata": {},
     "output_type": "display_data"
    }
   ],
   "source": [
    "ICA_face1=ICA_faces[:,0]\n",
    "ICA_face1=ICA_face1.reshape(nrows,ncolumns)\n",
    "img=plt.imshow(ICA_face1,cmap='gray')"
   ]
  },
  {
   "cell_type": "code",
   "execution_count": 12,
   "id": "8e2db388",
   "metadata": {},
   "outputs": [
    {
     "name": "stdout",
     "output_type": "stream",
     "text": [
      "time cost 17.400327682495117 s\n"
     ]
    }
   ],
   "source": [
    "errors=[]\n",
    "time_start=time.time()\n",
    "X=M\n",
    "for k in range(1,101):\n",
    "    error=0\n",
    "    ICA_bases=ICA_faces[:,:k] #ICA_faces:(4096,k)\n",
    "    proj=ICA_bases@np.linalg.pinv(ICA_bases) #(4096,4096)\n",
    "    ematrix=X-proj@X\n",
    "    for i in range(ematrix.shape[1]):\n",
    "        error=error+np.linalg.norm(ematrix[:,i])\n",
    "    error=error/X.shape[1]\n",
    "    errors.append(error)\n",
    "time_end=time.time()\n",
    "print('time cost',time_end-time_start,'s')"
   ]
  },
  {
   "cell_type": "code",
   "execution_count": 13,
   "id": "d98895a2",
   "metadata": {},
   "outputs": [
    {
     "data": {
      "text/plain": [
       "[]"
      ]
     },
     "execution_count": 13,
     "metadata": {},
     "output_type": "execute_result"
    },
    {
     "data": {
      "image/png": "[encoded data removed]",
      "text/plain": [
       "<Figure size 640x480 with 1 Axes>"
      ]
     },
     "metadata": {},
     "output_type": "display_data"
    }
   ],
   "source": [
    "fig,ax=plt.subplots()\n",
    "ax.plot(range(100),errors)\n",
    "ax.set_xlabel(\"k\")\n",
    "ax.set_ylabel(\"error\")\n",
    "plt.plot()"
   ]
  },
  {
   "cell_type": "code",
   "execution_count": 14,
   "id": "627c2da4",
   "metadata": {},
   "outputs": [
    {
     "name": "stdout",
     "output_type": "stream",
     "text": [
      "The mean reconstruction error using k=100 is 2111.308633895933\n"
     ]
    }
   ],
   "source": [
    "print(\"The mean reconstruction error using k=100 is {e}\".format(e=errors[99]))"
   ]
  },
  {
   "cell_type": "code",
   "execution_count": 20,
   "id": "6ef26024",
   "metadata": {},
   "outputs": [],
   "source": [
    "ICA_face1=ICA_faces[:,0]\n",
    "ICA_face2=ICA_faces[:,1]"
   ]
  },
  {
   "cell_type": "code",
   "execution_count": 21,
   "id": "5d52e51a",
   "metadata": {},
   "outputs": [
    {
     "data": {
      "text/plain": [
       "69638299.41980642"
      ]
     },
     "execution_count": 21,
     "metadata": {},
     "output_type": "execute_result"
    }
   ],
   "source": [
    "np.dot(ICA_face1,ICA_face2)"
   ]
  },
  {
   "cell_type": "code",
   "execution_count": 22,
   "id": "5bc1f8e3",
   "metadata": {},
   "outputs": [
    {
     "data": {
      "text/plain": [
       "0.00016942720359261089"
      ]
     },
     "execution_count": 22,
     "metadata": {},
     "output_type": "execute_result"
    }
   ],
   "source": [
    "angle=np.arccos(np.dot(ICA_face1,ICA_face2)/(np.linalg.norm(ICA_face1)*np.linalg.norm(ICA_face2)))\n",
    "angle"
   ]
  },
  {
   "cell_type": "code",
   "execution_count": null,
   "id": "55da6192",
   "metadata": {},
   "outputs": [],
   "source": []
  },
  {
   "cell_type": "code",
   "execution_count": null,
   "id": "1022399f",
   "metadata": {},
   "outputs": [],
   "source": []
  }
 ],
 "metadata": {
  "kernelspec": {
   "display_name": "Python 3 (ipykernel)",
   "language": "python",
   "name": "python3"
  },
  "language_info": {
   "codemirror_mode": {
    "name": "ipython",
    "version": 3
   },
   "file_extension": ".py",
   "mimetype": "text/x-python",
   "name": "python",
   "nbconvert_exporter": "python",
   "pygments_lexer": "ipython3",
   "version": "3.11.4"
  }
 },
 "nbformat": 4,
 "nbformat_minor": 5
}
