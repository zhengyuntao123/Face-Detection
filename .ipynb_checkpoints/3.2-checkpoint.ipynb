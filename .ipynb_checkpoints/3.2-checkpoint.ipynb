{
 "cells": [
  {
   "cell_type": "code",
   "execution_count": 1,
   "id": "f8462634",
   "metadata": {},
   "outputs": [],
   "source": [
    "# Feel free to use pathlib library instead of the os library if you like pathlib better.\n",
    "# pathlib is more modern.\n",
    "import os\n",
    "from PIL import Image\n",
    "import numpy as np\n",
    "from matplotlib import pyplot as plt\n",
    "import pandas as pd\n",
    "import time"
   ]
  },
  {
   "cell_type": "code",
   "execution_count": 2,
   "id": "3156bff8",
   "metadata": {},
   "outputs": [],
   "source": [
    "imagedirectory='./lfw1000'"
   ]
  },
  {
   "cell_type": "code",
   "execution_count": 3,
   "id": "29ea8cc0",
   "metadata": {},
   "outputs": [],
   "source": [
    "image = Image.open(os.path.join(imagedirectory, os.listdir(imagedirectory)[0]))"
   ]
  },
  {
   "cell_type": "code",
   "execution_count": 4,
   "id": "c51a65ef",
   "metadata": {},
   "outputs": [],
   "source": [
    "nrows, ncolumns = image.height, image.width"
   ]
  },
  {
   "cell_type": "code",
   "execution_count": 5,
   "id": "291ae308",
   "metadata": {},
   "outputs": [],
   "source": [
    "nimages=len(os.listdir(imagedirectory))"
   ]
  },
  {
   "cell_type": "code",
   "execution_count": 6,
   "id": "b4150e3d",
   "metadata": {},
   "outputs": [],
   "source": [
    "X=np.empty([nrows*ncolumns,nimages])"
   ]
  },
  {
   "cell_type": "code",
   "execution_count": 7,
   "id": "9d0aafca",
   "metadata": {},
   "outputs": [
    {
     "data": {
      "text/plain": [
       "(4096, 1071)"
      ]
     },
     "execution_count": 7,
     "metadata": {},
     "output_type": "execute_result"
    }
   ],
   "source": [
    "X.shape"
   ]
  },
  {
   "cell_type": "code",
   "execution_count": 8,
   "id": "8863e0ae",
   "metadata": {},
   "outputs": [],
   "source": [
    "for i, filename in enumerate(os.listdir(imagedirectory)):\n",
    "    image = Image.open(os.path.join(imagedirectory, filename))\n",
    "    X[:,i] = np.asarray(image.getdata())"
   ]
  },
  {
   "cell_type": "code",
   "execution_count": 9,
   "id": "7ee696f0",
   "metadata": {},
   "outputs": [],
   "source": [
    "U,S,V=np.linalg.svd(X)"
   ]
  },
  {
   "cell_type": "code",
   "execution_count": 10,
   "id": "fdff05ce",
   "metadata": {},
   "outputs": [
    {
     "data": {
      "text/plain": [
       "(64, 64)"
      ]
     },
     "execution_count": 10,
     "metadata": {},
     "output_type": "execute_result"
    }
   ],
   "source": [
    "eigenface1=U[:,0].reshape(nrows, ncolumns)\n",
    "eigenface1.shape"
   ]
  },
  {
   "cell_type": "code",
   "execution_count": 11,
   "id": "93fa3e97",
   "metadata": {},
   "outputs": [
    {
     "data": {
      "text/plain": [
       "<matplotlib.image.AxesImage at 0x1df7a1cdf10>"
      ]
     },
     "execution_count": 11,
     "metadata": {},
     "output_type": "execute_result"
    },
    {
     "data": {
      "image/png": "[encoded data removed]",
      "text/plain": [
       "<Figure size 640x480 with 1 Axes>"
      ]
     },
     "metadata": {},
     "output_type": "display_data"
    }
   ],
   "source": [
    "plt.imshow(eigenface1,cmap='gray')"
   ]
  },
  {
   "cell_type": "code",
   "execution_count": 12,
   "id": "74ffb89c",
   "metadata": {},
   "outputs": [],
   "source": [
    "df=pd.DataFrame(U[:,0])\n",
    "df.to_csv(\"eigenface.csv\")"
   ]
  },
  {
   "cell_type": "code",
   "execution_count": 13,
   "id": "038a314b",
   "metadata": {},
   "outputs": [
    {
     "data": {
      "text/plain": [
       "(4096, 4096)"
      ]
     },
     "execution_count": 13,
     "metadata": {},
     "output_type": "execute_result"
    }
   ],
   "source": [
    "U.shape"
   ]
  },
  {
   "cell_type": "code",
   "execution_count": null,
   "id": "2791a3d2",
   "metadata": {},
   "outputs": [],
   "source": [
    "errors=[]\n",
    "time_start=time.time()\n",
    "for k in range(1,101):\n",
    "    error=0\n",
    "    E=U[:,:k]\n",
    "    proj=E@np.linalg.pinv(E)\n",
    "    ematrix=X-proj@X\n",
    "    for i in range(ematrix.shape[1]):\n",
    "        error=error+np.linalg.norm(ematrix[:,i])\n",
    "    error=error/X.shape[1]\n",
    "    errors.append(error)\n",
    "time_end=time.time()\n",
    "print('time cost',time_end-time_start,'s')"
   ]
  },
  {
   "cell_type": "code",
   "execution_count": null,
   "id": "733cd12f",
   "metadata": {},
   "outputs": [],
   "source": [
    "# errors"
   ]
  },
  {
   "cell_type": "code",
   "execution_count": null,
   "id": "c697e674",
   "metadata": {},
   "outputs": [],
   "source": [
    "# #too slow\n",
    "# errors=[]\n",
    "# time_start=time.time()\n",
    "# for k in range(1,101):\n",
    "#     E=U[:,:k]\n",
    "#     proj=E@np.linalg.pinv(E)\n",
    "#     error=0\n",
    "#     for i in range(X.shape[1]):\n",
    "#         curimage=X[:,i]\n",
    "#     #     print(curimage.shape)\n",
    "#     #     print(E.shape)\n",
    "#         error=error+np.linalg.norm(curimage-proj@curimage)\n",
    "#     error=error/X.shape[1]\n",
    "#     errors.append(error)\n",
    "# time_end=time.time()\n",
    "# print('time cost',time_end-time_start,'s')"
   ]
  },
  {
   "cell_type": "code",
   "execution_count": null,
   "id": "abb0af99",
   "metadata": {},
   "outputs": [],
   "source": [
    "fig,ax=plt.subplots()\n",
    "ax.plot(range(100),errors)\n",
    "ax.set_xlabel(\"k\")\n",
    "ax.set_ylabel(\"error\")\n",
    "plt.plot()"
   ]
  },
  {
   "cell_type": "code",
   "execution_count": null,
   "id": "bf5d4820",
   "metadata": {},
   "outputs": [],
   "source": [
    "print(\"The mean reconstruction error using k=100 is {e}\".format(e=errors[99]))"
   ]
  },
  {
   "cell_type": "code",
   "execution_count": null,
   "id": "534aab61",
   "metadata": {},
   "outputs": [],
   "source": [
    "e1=U[:,0]\n",
    "e2=U[:,1]"
   ]
  },
  {
   "cell_type": "code",
   "execution_count": null,
   "id": "5c00a575",
   "metadata": {},
   "outputs": [],
   "source": [
    "np.dot(e1,e2)"
   ]
  },
  {
   "cell_type": "markdown",
   "id": "cebf460f",
   "metadata": {},
   "source": [
    "since <e1,e2> is so small, we can say e1 and e2 are orthogonal"
   ]
  },
  {
   "cell_type": "code",
   "execution_count": null,
   "id": "7f96ac5f",
   "metadata": {},
   "outputs": [],
   "source": [
    "# angle=np.arccos(np.dot(e1,e2)/(np.linalg.norm(e1)*np.linalg.norm(e2)))"
   ]
  },
  {
   "cell_type": "code",
   "execution_count": null,
   "id": "a026595e",
   "metadata": {},
   "outputs": [],
   "source": []
  }
 ],
 "metadata": {
  "kernelspec": {
   "display_name": "Python 3 (ipykernel)",
   "language": "python",
   "name": "python3"
  },
  "language_info": {
   "codemirror_mode": {
    "name": "ipython",
    "version": 3
   },
   "file_extension": ".py",
   "mimetype": "text/x-python",
   "name": "python",
   "nbconvert_exporter": "python",
   "pygments_lexer": "ipython3",
   "version": "3.11.4"
  }
 },
 "nbformat": 4,
 "nbformat_minor": 5
}
