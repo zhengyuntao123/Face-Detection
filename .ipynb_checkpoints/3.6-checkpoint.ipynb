{
 "cells": [
  {
   "cell_type": "code",
   "execution_count": 1,
   "id": "913652b3",
   "metadata": {},
   "outputs": [],
   "source": [
    "import os\n",
    "from PIL import Image\n",
    "import numpy as np\n",
    "from matplotlib import pyplot as plt\n",
    "import pandas as pd\n",
    "import time"
   ]
  },
  {
   "cell_type": "code",
   "execution_count": 2,
   "id": "cfec5fa1",
   "metadata": {},
   "outputs": [],
   "source": [
    "imagedirectories=['./train/face','./test/face','./train/non-face','./test/non-face']\n",
    "image = Image.open(os.path.join(imagedirectories[0], os.listdir(imagedirectories[0])[0]))\n",
    "nrows, ncolumns = image.height, image.width"
   ]
  },
  {
   "cell_type": "code",
   "execution_count": 3,
   "id": "36a30f77",
   "metadata": {},
   "outputs": [
    {
     "name": "stdout",
     "output_type": "stream",
     "text": [
      "31022\n"
     ]
    }
   ],
   "source": [
    "nimages=0\n",
    "for i in imagedirectories:\n",
    "    nimages=nimages+len(os.listdir(i))\n",
    "print(nimages)"
   ]
  },
  {
   "cell_type": "code",
   "execution_count": 4,
   "id": "8a1f5314",
   "metadata": {},
   "outputs": [
    {
     "name": "stdout",
     "output_type": "stream",
     "text": [
      "(361, 31022)\n"
     ]
    }
   ],
   "source": [
    "X_tr=np.empty([nrows*ncolumns,nimages])\n",
    "print(X_tr.shape)"
   ]
  },
  {
   "cell_type": "code",
   "execution_count": 5,
   "id": "449984f1",
   "metadata": {},
   "outputs": [],
   "source": [
    "filenum=0\n",
    "for imagedirectory in imagedirectories:\n",
    "    for i, filename in enumerate(os.listdir(imagedirectory)):\n",
    "        image = Image.open(os.path.join(imagedirectory, filename))\n",
    "        X_tr[:,filenum] = np.asarray(image.getdata())\n",
    "        filenum=filenum+1"
   ]
  },
  {
   "cell_type": "code",
   "execution_count": 6,
   "id": "2b409231",
   "metadata": {},
   "outputs": [
    {
     "data": {
      "text/plain": [
       "(361, 31022)"
      ]
     },
     "execution_count": 6,
     "metadata": {},
     "output_type": "execute_result"
    }
   ],
   "source": [
    "X_tr.shape"
   ]
  },
  {
   "cell_type": "code",
   "execution_count": 7,
   "id": "0343abab",
   "metadata": {},
   "outputs": [
    {
     "data": {
      "text/plain": [
       "array([[104., 112.,  91., ..., 233., 156., 113.],\n",
       "       [122., 134., 109., ..., 236., 159., 113.],\n",
       "       [142., 160., 132., ..., 240., 165., 117.],\n",
       "       ...,\n",
       "       [109., 127., 123., ..., 199., 167., 149.],\n",
       "       [ 86.,  98.,  78., ..., 195., 164., 150.],\n",
       "       [ 71.,  74.,  83., ..., 190., 156., 151.]])"
      ]
     },
     "execution_count": 7,
     "metadata": {},
     "output_type": "execute_result"
    }
   ],
   "source": [
    "X_tr"
   ]
  },
  {
   "cell_type": "code",
   "execution_count": 8,
   "id": "889d4730",
   "metadata": {},
   "outputs": [
    {
     "name": "stdout",
     "output_type": "stream",
     "text": [
      "(31022,)\n"
     ]
    }
   ],
   "source": [
    "y_1=np.ones(len(os.listdir('./train/face')))\n",
    "y_2=np.ones(len(os.listdir('./test/face')))\n",
    "y_3=np.ones(len(os.listdir('./train/non-face')))\n",
    "y_4=np.ones(len(os.listdir('./test/non-face')))\n",
    "y_tr=np.append(y_1,y_2)\n",
    "y_tr=np.append(y_tr,-y_3)\n",
    "y_tr=np.append(y_tr,-y_4)\n",
    "print(y_tr.shape)"
   ]
  },
  {
   "cell_type": "markdown",
   "id": "876d1eb9",
   "metadata": {},
   "source": [
    "# PCA"
   ]
  },
  {
   "cell_type": "code",
   "execution_count": 9,
   "id": "8b574cdb",
   "metadata": {},
   "outputs": [],
   "source": [
    "def train_weak_learner(W,F,sample_weight,y_tr):\n",
    "    minerror=1\n",
    "    mine_threshold=0\n",
    "    mine_sign=-1\n",
    "    mine_f=0\n",
    "    for f in range(F):\n",
    "        thresholds=np.sort(W[f])\n",
    "        arg_thresholds=np.argsort(W[f])\n",
    "        errors=[]\n",
    "        \n",
    "        #consider first threshold and sign=1\n",
    "        prediction=np.ones(W.shape[1])\n",
    "        prediction[W[f]<thresholds[0]]=-1\n",
    "        error=np.sum((prediction!=y_tr)*sample_weight)\n",
    "        if(error<minerror):\n",
    "            minerror=error\n",
    "            mine_threshold=thresholds[0]\n",
    "            mine_sign=1\n",
    "            mine_f=f\n",
    "        errors.append(error)\n",
    "        \n",
    "        #consider first threshold and sign=-1\n",
    "        prediction=np.ones(W.shape[1])\n",
    "        prediction[W[f]>=thresholds[0]]=-1\n",
    "        error=np.sum((prediction!=y_tr)*sample_weight)\n",
    "        if(error<minerror):\n",
    "            minerror=error\n",
    "            mine_threshold=thresholds[0]\n",
    "            mine_sign=-1\n",
    "            mine_f=f\n",
    "        errors.append(error)\n",
    "        \n",
    "        for i in range(1,thresholds.shape[0]):\n",
    "            #consider sign=1 and sign=0\n",
    "            cury=y_tr[arg_thresholds[i-1]]              \n",
    "            if (cury==1):\n",
    "                #when we make threshold move on, we actually change the prediction of arg_thresholds[i-1] instead of  arg_thresholds[i]\n",
    "                errors[0]=errors[0]+sample_weight[arg_thresholds[i-1]]\n",
    "                errors[1]=errors[1]-sample_weight[arg_thresholds[i-1]]\n",
    "            else:\n",
    "                errors[0]=errors[0]-sample_weight[arg_thresholds[i-1]]\n",
    "                errors[1]=errors[1]+sample_weight[arg_thresholds[i-1]]\n",
    "                \n",
    "            if(errors[0]<minerror):\n",
    "                minerror=errors[0]\n",
    "                mine_threshold=thresholds[i]\n",
    "                mine_sign=1\n",
    "                mine_f=f     \n",
    "            if(errors[1]<minerror):\n",
    "                minerror=errors[1]\n",
    "                mine_threshold=thresholds[i]\n",
    "                mine_sign=-1\n",
    "                mine_f=f     \n",
    "\n",
    "    return minerror,mine_f,mine_sign,mine_threshold"
   ]
  },
  {
   "cell_type": "code",
   "execution_count": 10,
   "id": "18f87ac0",
   "metadata": {},
   "outputs": [],
   "source": [
    "def get_alpha(e):\n",
    "    return 0.5*np.log((1-e)/e)\n",
    "\n",
    "def adaboost_train(X_tr,y_tr,T,F):\n",
    "    U,S,V=np.linalg.svd(X_tr)\n",
    "    E=U[:,:F]\n",
    "    W=np.linalg.pinv(E)@X_tr\n",
    "    #initialize\n",
    "    sample_weight=np.ones(X_tr.shape[1])/X_tr.shape[1]\n",
    "    weak_learners=[]\n",
    "    for t in range(T):\n",
    "        error,f,sign,threshold=train_weak_learner(W,F,sample_weight,y_tr)\n",
    "#         print(error,f,sign,threshold)\n",
    "        alpha_t=get_alpha(error)\n",
    "        #f表示特征\n",
    "        weak_learners.append([alpha_t,f,sign,threshold])\n",
    "        for j in range(W.shape[1]):\n",
    "            if (W[f][j]>=threshold and sign!=y_tr[j]) or (W[f][j]<threshold and (-sign)!=y_tr[j]):\n",
    "                sample_weight[j]=sample_weight[j]*np.exp(alpha_t)\n",
    "            else:\n",
    "                sample_weight[j]=sample_weight[j]*np.exp(-alpha_t)\n",
    "        sample_weight=sample_weight/np.sum(sample_weight)\n",
    "    return weak_learners,E"
   ]
  },
  {
   "cell_type": "code",
   "execution_count": 11,
   "id": "3425ce7d",
   "metadata": {},
   "outputs": [],
   "source": [
    "def adaboost_predict(E,X_te,model):\n",
    "    W_te=np.linalg.pinv(E)@X_te\n",
    "    y_pred=[]\n",
    "    for i in range(W_te.shape[1]):\n",
    "        tempsum=0\n",
    "        for weak_learner in model:\n",
    "            alpha=weak_learner[0]\n",
    "            f=weak_learner[1]\n",
    "            sign=weak_learner[2]\n",
    "            threshold=weak_learner[3]\n",
    "            if W_te[f][i]>=threshold:\n",
    "                if sign==1:\n",
    "                    tempsum=tempsum+alpha\n",
    "                else:\n",
    "                    tempsum=tempsum-alpha\n",
    "            else:\n",
    "                if sign==1:\n",
    "                    tempsum=tempsum-alpha\n",
    "                else:\n",
    "                    tempsum=tempsum+alpha\n",
    "        y_pred.append(np.sign(tempsum))\n",
    "    return y_pred"
   ]
  },
  {
   "cell_type": "code",
   "execution_count": 12,
   "id": "6a512caa",
   "metadata": {},
   "outputs": [
    {
     "name": "stdout",
     "output_type": "stream",
     "text": [
      "time cost 186.45303392410278 s\n"
     ]
    }
   ],
   "source": [
    "time_start=time.time()\n",
    "model_PCA,eigenfaces=adaboost_train(X_tr,y_tr,200,50)\n",
    "time_end=time.time()\n",
    "print('time cost',time_end-time_start,'s')\n",
    "y_pred_tr_PCA=adaboost_predict(eigenfaces,X_tr,model_PCA)\n",
    "tr_e_PCA=1-np.sum(y_pred_tr_PCA==y_tr)/y_tr.shape[0]"
   ]
  },
  {
   "cell_type": "code",
   "execution_count": 13,
   "id": "50fb3663",
   "metadata": {},
   "outputs": [
    {
     "data": {
      "text/plain": [
       "0.024756624331119803"
      ]
     },
     "execution_count": 13,
     "metadata": {},
     "output_type": "execute_result"
    }
   ],
   "source": [
    "tr_e_PCA"
   ]
  },
  {
   "cell_type": "markdown",
   "id": "233369a0",
   "metadata": {},
   "source": [
    "# ICA"
   ]
  },
  {
   "cell_type": "code",
   "execution_count": 14,
   "id": "071b299f",
   "metadata": {},
   "outputs": [],
   "source": [
    "def center(M):\n",
    "    mu=np.mean(M,axis=1,keepdims=True)\n",
    "    M=M-mu \n",
    "    return M"
   ]
  },
  {
   "cell_type": "code",
   "execution_count": 15,
   "id": "81b6ec56",
   "metadata": {},
   "outputs": [],
   "source": [
    "def ICA(M,k):\n",
    "    R_MM=M@np.transpose(M) \n",
    "    diag,E=np.linalg.eig(R_MM)\n",
    "    E=E[:,:k] \n",
    "    diag=diag[:k]\n",
    "    C=np.diag(diag**(-0.5))@np.transpose(E)\n",
    "    X=C@M \n",
    "#     print('mean of each row:',np.mean(X,axis=1))\n",
    "#     print('variance of each row:',np.var(X,axis=1))\n",
    "    D=np.zeros((X.shape[0],X.shape[0]))\n",
    "    for col in range(X.shape[1]):\n",
    "        x=X[:,col]\n",
    "        x=x.reshape((k,1))\n",
    "        D=D+np.linalg.norm(x)**2*(x@np.transpose(x))\n",
    "    D=D/X.shape[1]\n",
    "    eigenvalue,U=np.linalg.eig(D)\n",
    "    A=np.transpose(U)@C\n",
    "    H=A@M\n",
    "    return H"
   ]
  },
  {
   "cell_type": "code",
   "execution_count": 16,
   "id": "39fa33ad",
   "metadata": {},
   "outputs": [],
   "source": [
    "def getICA(X_tr,F):\n",
    "    M=np.transpose(X_tr)\n",
    "    H=ICA(M,F)\n",
    "    ICA_faces=np.transpose(H)\n",
    "    return ICA_faces"
   ]
  },
  {
   "cell_type": "code",
   "execution_count": 17,
   "id": "36cbead3",
   "metadata": {},
   "outputs": [],
   "source": [
    "def adaboost_train(X_tr,y_tr,T,F,ICA_faces):\n",
    "#     minerrors=[]\n",
    "    W=np.linalg.pinv(ICA_faces)@X_tr\n",
    "    #initialize\n",
    "    sample_weight=np.ones(X_tr.shape[1])/X_tr.shape[1]\n",
    "    weak_learners=[]\n",
    "    for t in range(T):\n",
    "        error,f,sign,threshold=train_weak_learner(W,F,sample_weight,y_tr)\n",
    "#         minerrors.append(error)\n",
    "        alpha_t=get_alpha(error)\n",
    "        #f表示特征\n",
    "        weak_learners.append([alpha_t,f,sign,threshold])\n",
    "        for j in range(W.shape[1]):\n",
    "            if (W[f][j]>=threshold and sign!=y_tr[j]) or (W[f][j]<threshold and (-sign)!=y_tr[j]):\n",
    "                sample_weight[j]=sample_weight[j]*np.exp(alpha_t)\n",
    "            else:\n",
    "                sample_weight[j]=sample_weight[j]*np.exp(-alpha_t)\n",
    "        sample_weight=sample_weight/np.sum(sample_weight)\n",
    "    return weak_learners"
   ]
  },
  {
   "cell_type": "code",
   "execution_count": 18,
   "id": "9d8a6002",
   "metadata": {},
   "outputs": [],
   "source": [
    "def adaboost_predict(ICA_faces,X_te,model):\n",
    "    W_te=np.linalg.pinv(ICA_faces)@X_te\n",
    "    y_pred=[]\n",
    "    for i in range(W_te.shape[1]):\n",
    "        tempsum=0\n",
    "        for weak_learner in model:\n",
    "            alpha=weak_learner[0]\n",
    "            f=weak_learner[1]\n",
    "            sign=weak_learner[2]\n",
    "            threshold=weak_learner[3]\n",
    "            if W_te[f][i]>=threshold:\n",
    "                if sign==1:\n",
    "                    tempsum=tempsum+alpha\n",
    "                else:\n",
    "                    tempsum=tempsum-alpha\n",
    "            else:\n",
    "                if sign==1:\n",
    "                    tempsum=tempsum-alpha\n",
    "                else:\n",
    "                    tempsum=tempsum+alpha\n",
    "        y_pred.append(np.sign(tempsum))\n",
    "    return y_pred"
   ]
  },
  {
   "cell_type": "code",
   "execution_count": 19,
   "id": "7db2698d",
   "metadata": {},
   "outputs": [],
   "source": [
    "# center data first\n",
    "M=np.transpose(X_tr)\n",
    "M=center(M)\n",
    "X_tr_centered=np.transpose(M)"
   ]
  },
  {
   "cell_type": "code",
   "execution_count": 20,
   "id": "2ab108d8",
   "metadata": {},
   "outputs": [],
   "source": [
    "k=50\n",
    "ICA_faces=getICA(X_tr_centered,k)\n",
    "model_ICA=adaboost_train(X_tr_centered,y_tr,200,k,ICA_faces)\n",
    "y_pred_tr_ICA=adaboost_predict(ICA_faces,X_tr_centered,model_ICA)\n",
    "tr_e_ICA=1-np.sum(y_pred_tr_ICA==y_tr)/y_tr.shape[0]"
   ]
  },
  {
   "cell_type": "code",
   "execution_count": 21,
   "id": "23eab925",
   "metadata": {},
   "outputs": [
    {
     "name": "stdout",
     "output_type": "stream",
     "text": [
      "0.022532396363870832\n"
     ]
    }
   ],
   "source": [
    "print(tr_e_ICA)"
   ]
  },
  {
   "cell_type": "code",
   "execution_count": 87,
   "id": "a6e65867",
   "metadata": {},
   "outputs": [],
   "source": [
    "import numpy as np\n",
    "def calculate_iou(box1, box2):\n",
    "    \"\"\"\n",
    "    Calculate IoU (Intersection over Union) between two bounding boxes.\n",
    "    Each box is represented as (x1, y1, x2, y2).\n",
    "    \"\"\"\n",
    "\n",
    "    x1 = np.maximum(box1[0], box2[0])\n",
    "    y1 = np.maximum(box1[1], box2[1])\n",
    "    x2 = np.minimum(box1[2], box2[2])\n",
    "    y2 = np.minimum(box1[3], box2[3])\n",
    "\n",
    "    intersection_area = np.maximum(0, x2 - x1 + 1) * np.maximum(0, y2 - y1 + 1)\n",
    "\n",
    "    box1_area = (box1[2] - box1[0] + 1) * (box1[3] - box1[1] + 1)\n",
    "    box2_area = (box2[2] - box2[0] + 1) * (box2[3] - box2[1] + 1)\n",
    "\n",
    "    union_area = box1_area + box2_area - intersection_area\n",
    "\n",
    "    iou = intersection_area / union_area\n",
    "\n",
    "    return iou\n",
    "\n",
    "def nms(bboxes, iou_threshold=0.2):\n",
    "    \"\"\"\n",
    "    Apply Non-Maximum Suppression (NMS) on a set of bounding boxes.\n",
    "    Bounding boxes are represented as a numpy array with shape (n, 5),\n",
    "    where n is the number of bounding boxes and each row represents (x1, y1, x2, y2, confidence).\n",
    "    \"\"\"\n",
    "\n",
    "    # Sort the bounding boxes by confidence score in descending order\n",
    "    sorted_indices = np.argsort(bboxes[:, 4])[::-1]\n",
    "    sorted_bboxes = bboxes[sorted_indices]\n",
    "\n",
    "    selected_indices = []\n",
    "\n",
    "    while len(sorted_bboxes) > 0:\n",
    "        current_box = sorted_bboxes[0]\n",
    "        selected_indices.append(sorted_indices[0])\n",
    "\n",
    "        remaining_indices = sorted_indices[1:]\n",
    "        ious = np.array([calculate_iou(current_box[:4], bbox[:4]) for bbox in sorted_bboxes[1:]])\n",
    "\n",
    "        # Find indices of boxes with IoU less than the threshold\n",
    "        #should be called not_overlapping_indices\n",
    "        overlapping_indices = np.where(ious <= iou_threshold)[0]\n",
    "\n",
    "        sorted_indices = remaining_indices[overlapping_indices]\n",
    "        sorted_bboxes = sorted_bboxes[1:][overlapping_indices]\n",
    "\n",
    "    selected_bboxes = bboxes[selected_indices]\n",
    "\n",
    "    return selected_bboxes"
   ]
  },
  {
   "cell_type": "code",
   "execution_count": 88,
   "id": "34648160",
   "metadata": {},
   "outputs": [],
   "source": [
    "image = Image.open('BBC_1966.png')\n",
    "nrows, ncolumns = image.height, image.width"
   ]
  },
  {
   "cell_type": "code",
   "execution_count": 89,
   "id": "1a872a5c",
   "metadata": {},
   "outputs": [],
   "source": [
    "X_BBC = np.asarray(image.getdata())"
   ]
  },
  {
   "cell_type": "code",
   "execution_count": 90,
   "id": "b8d6d70c",
   "metadata": {},
   "outputs": [],
   "source": [
    "X_BBC=X_BBC.reshape(nrows,ncolumns)"
   ]
  },
  {
   "cell_type": "code",
   "execution_count": 91,
   "id": "5f457cdb",
   "metadata": {},
   "outputs": [
    {
     "data": {
      "text/plain": [
       "(515, 612)"
      ]
     },
     "execution_count": 91,
     "metadata": {},
     "output_type": "execute_result"
    }
   ],
   "source": [
    "X_BBC.shape"
   ]
  },
  {
   "cell_type": "code",
   "execution_count": 92,
   "id": "6554145f",
   "metadata": {},
   "outputs": [],
   "source": [
    "X_BBC_centered=center(X_BBC)"
   ]
  },
  {
   "cell_type": "code",
   "execution_count": 93,
   "id": "4737386d",
   "metadata": {},
   "outputs": [],
   "source": [
    "def adaboost_predict(ICA_faces,X,model):\n",
    "    X=X.reshape(361,1)\n",
    "    W=np.linalg.pinv(ICA_faces)@X\n",
    "    tempsum=0\n",
    "    for weak_learner in model:\n",
    "        alpha=weak_learner[0]\n",
    "        f=weak_learner[1]\n",
    "        sign=weak_learner[2]\n",
    "        threshold=weak_learner[3]\n",
    "        if W[f][0]>=threshold:\n",
    "            if sign==1:\n",
    "                tempsum=tempsum+alpha\n",
    "            else:\n",
    "                tempsum=tempsum-alpha\n",
    "        else:\n",
    "            if sign==1:\n",
    "                tempsum=tempsum-alpha\n",
    "            else:\n",
    "                tempsum=tempsum+alpha\n",
    "    y_pred=tempsum\n",
    "    return y_pred"
   ]
  },
  {
   "cell_type": "code",
   "execution_count": 94,
   "id": "c5c61685",
   "metadata": {},
   "outputs": [],
   "source": [
    "box=np.zeros((nrows-18,ncolumns-18,5))\n",
    "for row in range(nrows-18):\n",
    "    for col in range(ncolumns-18):\n",
    "        box[row][col][0]=row\n",
    "        box[row][col][1]=col\n",
    "        box[row][col][2]=row+18\n",
    "        box[row][col][3]=col+18\n",
    "        box[row][col][4]=adaboost_predict(ICA_faces,X_BBC_centered[row:row+19,col:col+19],model_ICA)"
   ]
  },
  {
   "cell_type": "code",
   "execution_count": 97,
   "id": "dc1536af",
   "metadata": {},
   "outputs": [],
   "source": [
    "bboxes=box.reshape(((nrows-18)*(ncolumns-18),5))"
   ]
  },
  {
   "cell_type": "code",
   "execution_count": 99,
   "id": "539c9386",
   "metadata": {},
   "outputs": [],
   "source": [
    "selected_bboxes=nms(bboxes)"
   ]
  },
  {
   "cell_type": "code",
   "execution_count": 103,
   "id": "f7ed63c1",
   "metadata": {},
   "outputs": [
    {
     "data": {
      "text/plain": [
       "(1546, 5)"
      ]
     },
     "execution_count": 103,
     "metadata": {},
     "output_type": "execute_result"
    }
   ],
   "source": [
    "selected_bboxes.shape"
   ]
  },
  {
   "cell_type": "code",
   "execution_count": 179,
   "id": "1f6f65ec",
   "metadata": {},
   "outputs": [],
   "source": [
    "selected_bboxes_indices=np.argsort(selected_bboxes[:,4])[::-1]"
   ]
  },
  {
   "cell_type": "code",
   "execution_count": 181,
   "id": "bf80c566",
   "metadata": {},
   "outputs": [],
   "source": [
    "my_choice=selected_bboxes[selected_bboxes_indices][:7]"
   ]
  },
  {
   "cell_type": "code",
   "execution_count": 183,
   "id": "b0130ea5",
   "metadata": {},
   "outputs": [
    {
     "data": {
      "text/plain": [
       "array([[3.47000000e+02, 4.02000000e+02, 3.65000000e+02, 4.20000000e+02,\n",
       "        7.25059526e-01],\n",
       "       [4.50000000e+01, 4.93000000e+02, 6.30000000e+01, 5.11000000e+02,\n",
       "        7.17281457e-01],\n",
       "       [2.16000000e+02, 3.46000000e+02, 2.34000000e+02, 3.64000000e+02,\n",
       "        7.15073034e-01],\n",
       "       [3.34000000e+02, 4.30000000e+02, 3.52000000e+02, 4.48000000e+02,\n",
       "        4.61079559e-01],\n",
       "       [1.53000000e+02, 2.28000000e+02, 1.71000000e+02, 2.46000000e+02,\n",
       "        3.76935716e-01],\n",
       "       [2.21000000e+02, 5.50000000e+02, 2.39000000e+02, 5.68000000e+02,\n",
       "        3.75513752e-01],\n",
       "       [1.62000000e+02, 3.51000000e+02, 1.80000000e+02, 3.69000000e+02,\n",
       "        3.65840800e-01]])"
      ]
     },
     "execution_count": 183,
     "metadata": {},
     "output_type": "execute_result"
    }
   ],
   "source": [
    "my_choice"
   ]
  },
  {
   "cell_type": "code",
   "execution_count": 203,
   "id": "a7d4b7d8",
   "metadata": {},
   "outputs": [],
   "source": [
    "import matplotlib.pyplot as plt\n",
    "import matplotlib.patches as patches\n",
    "from PIL import Image, ImageDraw"
   ]
  },
  {
   "cell_type": "code",
   "execution_count": 204,
   "id": "963d5418",
   "metadata": {},
   "outputs": [
    {
     "data": {
      "image/png": "[encoded data removed]",
      "text/plain": [
       "<Figure size 640x480 with 1 Axes>"
      ]
     },
     "metadata": {},
     "output_type": "display_data"
    }
   ],
   "source": [
    "fig, ax = plt.subplots(1)"
   ]
  },
  {
   "cell_type": "code",
   "execution_count": 205,
   "id": "b4745b69",
   "metadata": {},
   "outputs": [
    {
     "data": {
      "text/plain": [
       "<matplotlib.image.AxesImage at 0x27c85bb30d0>"
      ]
     },
     "execution_count": 205,
     "metadata": {},
     "output_type": "execute_result"
    }
   ],
   "source": [
    "ax.imshow(image)"
   ]
  },
  {
   "cell_type": "code",
   "execution_count": 211,
   "id": "f1121329",
   "metadata": {},
   "outputs": [
    {
     "data": {
      "text/plain": [
       "array([[3.47000000e+02, 4.02000000e+02, 3.65000000e+02, 4.20000000e+02,\n",
       "        7.25059526e-01],\n",
       "       [4.50000000e+01, 4.93000000e+02, 6.30000000e+01, 5.11000000e+02,\n",
       "        7.17281457e-01],\n",
       "       [2.16000000e+02, 3.46000000e+02, 2.34000000e+02, 3.64000000e+02,\n",
       "        7.15073034e-01],\n",
       "       [3.34000000e+02, 4.30000000e+02, 3.52000000e+02, 4.48000000e+02,\n",
       "        4.61079559e-01],\n",
       "       [1.53000000e+02, 2.28000000e+02, 1.71000000e+02, 2.46000000e+02,\n",
       "        3.76935716e-01],\n",
       "       [2.21000000e+02, 5.50000000e+02, 2.39000000e+02, 5.68000000e+02,\n",
       "        3.75513752e-01],\n",
       "       [1.62000000e+02, 3.51000000e+02, 1.80000000e+02, 3.69000000e+02,\n",
       "        3.65840800e-01]])"
      ]
     },
     "execution_count": 211,
     "metadata": {},
     "output_type": "execute_result"
    }
   ],
   "source": [
    "my_choice"
   ]
  },
  {
   "cell_type": "code",
   "execution_count": 212,
   "id": "7eaab07a",
   "metadata": {},
   "outputs": [
    {
     "name": "stdout",
     "output_type": "stream",
     "text": [
      "402 365 420 0\n"
     ]
    }
   ],
   "source": [
    "# 在人脸方框上绘制红线\n",
    "image = Image.open('BBC_1966.png')\n",
    "imgdraw = ImageDraw.Draw(image)\n",
    "for box in my_choice:\n",
    "    x1 = int(box[1])\n",
    "    y1 = int(box[2])\n",
    "    x2 = int(box[3])\n",
    "    y2 = int(box[4])\n",
    "    print(x1,y1,x2,y2)\n",
    "    break\n",
    "    imgdraw.rectangle((x1,y2,x2,y2),outline='red',width=2)\n",
    "image.show()"
   ]
  },
  {
   "cell_type": "code",
   "execution_count": null,
   "id": "0f5e25be",
   "metadata": {},
   "outputs": [],
   "source": [
    "for (x, y, w, h) in faces:\n",
    "    rect = patches.Rectangle((x, y), w, h, linewidth=2, edgecolor='red', facecolor='none')\n",
    "    ax.add_patch(rect)"
   ]
  }
 ],
 "metadata": {
  "kernelspec": {
   "display_name": "Python 3 (ipykernel)",
   "language": "python",
   "name": "python3"
  },
  "language_info": {
   "codemirror_mode": {
    "name": "ipython",
    "version": 3
   },
   "file_extension": ".py",
   "mimetype": "text/x-python",
   "name": "python",
   "nbconvert_exporter": "python",
   "pygments_lexer": "ipython3",
   "version": "3.11.4"
  }
 },
 "nbformat": 4,
 "nbformat_minor": 5
}
