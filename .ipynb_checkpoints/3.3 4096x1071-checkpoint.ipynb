{
 "cells": [
  {
   "cell_type": "code",
   "execution_count": 10,
   "id": "ce23edc2",
   "metadata": {},
   "outputs": [],
   "source": [
    "import os\n",
    "from PIL import Image\n",
    "import numpy as np\n",
    "from matplotlib import pyplot as plt\n",
    "import pandas as pd\n",
    "import time"
   ]
  },
  {
   "cell_type": "code",
   "execution_count": 11,
   "id": "c5a9ea3e",
   "metadata": {},
   "outputs": [],
   "source": [
    "imagedirectory='./lfw1000'\n",
    "image = Image.open(os.path.join(imagedirectory, os.listdir(imagedirectory)[0]))"
   ]
  },
  {
   "cell_type": "code",
   "execution_count": 12,
   "id": "3377900f",
   "metadata": {},
   "outputs": [],
   "source": [
    "nrows, ncolumns = image.height, image.width"
   ]
  },
  {
   "cell_type": "code",
   "execution_count": 13,
   "id": "6d6670d2",
   "metadata": {},
   "outputs": [],
   "source": [
    "nimages=len(os.listdir(imagedirectory))"
   ]
  },
  {
   "cell_type": "code",
   "execution_count": 14,
   "id": "2a5bffed",
   "metadata": {},
   "outputs": [
    {
     "data": {
      "text/plain": [
       "(4096, 1071)"
      ]
     },
     "execution_count": 14,
     "metadata": {},
     "output_type": "execute_result"
    }
   ],
   "source": [
    "M=np.empty([nrows*ncolumns,nimages])\n",
    "M.shape"
   ]
  },
  {
   "cell_type": "code",
   "execution_count": 15,
   "id": "dddcc4b8",
   "metadata": {},
   "outputs": [],
   "source": [
    "for i, filename in enumerate(os.listdir(imagedirectory)):\n",
    "    image = Image.open(os.path.join(imagedirectory, filename))\n",
    "    M[:,i] = np.asarray(image.getdata())"
   ]
  },
  {
   "cell_type": "code",
   "execution_count": 16,
   "id": "8680fe0d",
   "metadata": {},
   "outputs": [
    {
     "data": {
      "text/plain": [
       "(4096, 1071)"
      ]
     },
     "execution_count": 16,
     "metadata": {},
     "output_type": "execute_result"
    }
   ],
   "source": [
    "M.shape"
   ]
  },
  {
   "cell_type": "code",
   "execution_count": 17,
   "id": "d437fc7e",
   "metadata": {},
   "outputs": [],
   "source": [
    "def ICA(M,k):\n",
    "    mu=np.mean(M,axis=1,keepdims=True) #(4096,1)\n",
    "    M=M-mu # (4096,1071)\n",
    "    R_MM=M@np.transpose(M) #(4096,4096)\n",
    "    diag,E=np.linalg.eig(R_MM) # (4096,4096)\n",
    "    E=E[:,:k] #(4096,k)\n",
    "    diag=diag[:k] #(k,)\n",
    "    C=np.diag(diag**(-0.5))@np.transpose(E) #(k,k)@(k,4096)= (k,4096)\n",
    "    X=C@M #(k,4096)@(4096,1071)=(k,1071)\n",
    "#     print('mean of each row:',np.mean(X,axis=1))\n",
    "#     print('variance of each row:',np.var(X,axis=1))\n",
    "    D=np.zeros((X.shape[0],X.shape[0])) #(k,k)\n",
    "    for col in range(X.shape[1]):\n",
    "        x=X[:,col]\n",
    "        x=x.reshape((k,1))\n",
    "        D=D+np.linalg.norm(x)**2*(x@np.transpose(x))\n",
    "    D=D/X.shape[1]\n",
    "    eigenvalue,U=np.linalg.eig(D)#U:(k,k)\n",
    "    A=np.transpose(U)@C#(k,k)@(k,4096)=(k,4096)\n",
    "    H=A@M #(k,4096)@(4096,1071)=(k,1071)\n",
    "    #return centered data M\n",
    "    return H"
   ]
  },
  {
   "cell_type": "code",
   "execution_count": 20,
   "id": "c785887c",
   "metadata": {},
   "outputs": [
    {
     "ename": "ValueError",
     "evalue": "cannot reshape array of size 1071 into shape (64,64)",
     "output_type": "error",
     "traceback": [
      "\u001b[1;31m---------------------------------------------------------------------------\u001b[0m",
      "\u001b[1;31mValueError\u001b[0m                                Traceback (most recent call last)",
      "Cell \u001b[1;32mIn[20], line 3\u001b[0m\n\u001b[0;32m      1\u001b[0m H\u001b[38;5;241m=\u001b[39mICA(M,\u001b[38;5;241m100\u001b[39m)\n\u001b[0;32m      2\u001b[0m ICA_face1\u001b[38;5;241m=\u001b[39mH[\u001b[38;5;241m0\u001b[39m,:]\n\u001b[1;32m----> 3\u001b[0m ICA_face1\u001b[38;5;241m=\u001b[39mICA_face1\u001b[38;5;241m.\u001b[39mreshape(nrows,ncolumns)\n\u001b[0;32m      4\u001b[0m img\u001b[38;5;241m=\u001b[39mplt\u001b[38;5;241m.\u001b[39mimshow(ICA_face1,cmap\u001b[38;5;241m=\u001b[39m\u001b[38;5;124m\"\u001b[39m\u001b[38;5;124mgray\u001b[39m\u001b[38;5;124m\"\u001b[39m)\n",
      "\u001b[1;31mValueError\u001b[0m: cannot reshape array of size 1071 into shape (64,64)"
     ]
    }
   ],
   "source": [
    "H=ICA(M,100)\n",
    "ICA_face1=H[0,:]\n",
    "ICA_face1=ICA_face1.reshape(nrows,ncolumns)\n",
    "img=plt.imshow(ICA_face1,cmap=\"gray\")"
   ]
  },
  {
   "cell_type": "code",
   "execution_count": 73,
   "id": "0e6d2a5a",
   "metadata": {},
   "outputs": [],
   "source": [
    "ICA_face_reshape=ICA_face1.reshape(nrows,ncolumns)"
   ]
  },
  {
   "cell_type": "code",
   "execution_count": 74,
   "id": "03f14e7d",
   "metadata": {},
   "outputs": [
    {
     "data": {
      "text/plain": [
       "<matplotlib.image.AxesImage at 0x1b3142ea710>"
      ]
     },
     "execution_count": 74,
     "metadata": {},
     "output_type": "execute_result"
    },
    {
     "data": {
      "image/png": "[encoded data removed]",
      "text/plain": [
       "<Figure size 640x480 with 1 Axes>"
      ]
     },
     "metadata": {},
     "output_type": "display_data"
    }
   ],
   "source": [
    "plt.imshow(ICA_face_reshape,cmap=\"gray\")"
   ]
  },
  {
   "cell_type": "markdown",
   "id": "9ef2b6a3",
   "metadata": {},
   "source": [
    "# Try"
   ]
  },
  {
   "cell_type": "code",
   "execution_count": null,
   "id": "b437d0c8",
   "metadata": {},
   "outputs": [],
   "source": [
    "X,H=ICA(M)"
   ]
  },
  {
   "cell_type": "code",
   "execution_count": null,
   "id": "8b94e8bb",
   "metadata": {},
   "outputs": [],
   "source": [
    "ICA_face1=H[0,:]"
   ]
  },
  {
   "cell_type": "code",
   "execution_count": null,
   "id": "cc2529aa",
   "metadata": {},
   "outputs": [],
   "source": [
    "ICA_face1=ICA_face1.reshape(nrows,ncolumns)"
   ]
  },
  {
   "cell_type": "code",
   "execution_count": null,
   "id": "1cf5bf64",
   "metadata": {},
   "outputs": [],
   "source": [
    "img=plt.imshow(ICA_face1,cmap='gray')"
   ]
  },
  {
   "cell_type": "code",
   "execution_count": null,
   "id": "f393f532",
   "metadata": {},
   "outputs": [],
   "source": [
    "X=np.transpose(X)"
   ]
  },
  {
   "cell_type": "code",
   "execution_count": 85,
   "id": "4c3f071f",
   "metadata": {},
   "outputs": [
    {
     "data": {
      "text/plain": [
       "(4096, 1071)"
      ]
     },
     "execution_count": 85,
     "metadata": {},
     "output_type": "execute_result"
    }
   ],
   "source": [
    "H.shape"
   ]
  },
  {
   "cell_type": "code",
   "execution_count": 86,
   "id": "8e2db388",
   "metadata": {},
   "outputs": [
    {
     "name": "stdout",
     "output_type": "stream",
     "text": [
      "time cost 98.70525097846985 s\n"
     ]
    }
   ],
   "source": [
    "errors=[]\n",
    "time_start=time.time()\n",
    "for k in range(1,101):\n",
    "    error=0\n",
    "    ICA_faces=H[:,:k]\n",
    "    proj=ICA_faces@np.linalg.pinv(ICA_faces)\n",
    "    ematrix=X-proj@X\n",
    "    for i in range(ematrix.shape[1]):\n",
    "        error=error+np.linalg.norm(ematrix[:,i])\n",
    "    error=error/X.shape[1]\n",
    "    errors.append(error)\n",
    "time_end=time.time()\n",
    "print('time cost',time_end-time_start,'s')"
   ]
  },
  {
   "cell_type": "code",
   "execution_count": 87,
   "id": "d98895a2",
   "metadata": {},
   "outputs": [
    {
     "data": {
      "text/plain": [
       "[]"
      ]
     },
     "execution_count": 87,
     "metadata": {},
     "output_type": "execute_result"
    },
    {
     "data": {
      "image/png": "[encoded data removed]",
      "text/plain": [
       "<Figure size 640x480 with 1 Axes>"
      ]
     },
     "metadata": {},
     "output_type": "display_data"
    }
   ],
   "source": [
    "fig,ax=plt.subplots()\n",
    "ax.plot(range(100),errors)\n",
    "ax.set_xlabel(\"k\")\n",
    "ax.set_ylabel(\"error\")\n",
    "plt.plot()"
   ]
  },
  {
   "cell_type": "code",
   "execution_count": 88,
   "id": "627c2da4",
   "metadata": {},
   "outputs": [
    {
     "name": "stdout",
     "output_type": "stream",
     "text": [
      "The mean reconstruction error using k=100 is 2494.333788244894\n"
     ]
    }
   ],
   "source": [
    "print(\"The mean reconstruction error using k=100 is {e}\".format(e=errors[99]))"
   ]
  },
  {
   "cell_type": "code",
   "execution_count": 82,
   "id": "6ef26024",
   "metadata": {},
   "outputs": [],
   "source": [
    "ICA_face1=H[:,0]\n",
    "ICA_face2=H[:,1]"
   ]
  },
  {
   "cell_type": "code",
   "execution_count": 83,
   "id": "5d52e51a",
   "metadata": {},
   "outputs": [
    {
     "data": {
      "text/plain": [
       "-0.000933706816043402"
      ]
     },
     "execution_count": 83,
     "metadata": {},
     "output_type": "execute_result"
    }
   ],
   "source": [
    "np.dot(ICA_face1,ICA_face2)"
   ]
  },
  {
   "cell_type": "code",
   "execution_count": 84,
   "id": "5bc1f8e3",
   "metadata": {},
   "outputs": [
    {
     "data": {
      "text/plain": [
       "1.5717309063701823"
      ]
     },
     "execution_count": 84,
     "metadata": {},
     "output_type": "execute_result"
    }
   ],
   "source": [
    "angle=np.arccos(np.dot(ICA_face1,ICA_face2)/(np.linalg.norm(ICA_face1)*np.linalg.norm(ICA_face2)))\n",
    "angle"
   ]
  },
  {
   "cell_type": "code",
   "execution_count": null,
   "id": "55da6192",
   "metadata": {},
   "outputs": [],
   "source": []
  },
  {
   "cell_type": "code",
   "execution_count": null,
   "id": "1022399f",
   "metadata": {},
   "outputs": [],
   "source": []
  }
 ],
 "metadata": {
  "kernelspec": {
   "display_name": "Python 3 (ipykernel)",
   "language": "python",
   "name": "python3"
  },
  "language_info": {
   "codemirror_mode": {
    "name": "ipython",
    "version": 3
   },
   "file_extension": ".py",
   "mimetype": "text/x-python",
   "name": "python",
   "nbconvert_exporter": "python",
   "pygments_lexer": "ipython3",
   "version": "3.11.4"
  }
 },
 "nbformat": 4,
 "nbformat_minor": 5
}
