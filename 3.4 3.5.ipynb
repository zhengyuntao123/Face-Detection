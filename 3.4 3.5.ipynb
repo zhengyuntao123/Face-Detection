{
 "cells": [
  {
   "cell_type": "markdown",
   "id": "afa0ef4a",
   "metadata": {},
   "source": [
    "# 3.4"
   ]
  },
  {
   "cell_type": "code",
   "execution_count": 1,
   "id": "32772437",
   "metadata": {},
   "outputs": [],
   "source": [
    "import os\n",
    "from PIL import Image\n",
    "import numpy as np\n",
    "from matplotlib import pyplot as plt\n",
    "import pandas as pd\n",
    "import time"
   ]
  },
  {
   "cell_type": "code",
   "execution_count": 2,
   "id": "54494932",
   "metadata": {},
   "outputs": [],
   "source": [
    "imagedirectories=['./train/face','./train/non-face']"
   ]
  },
  {
   "cell_type": "code",
   "execution_count": 3,
   "id": "b454e6aa",
   "metadata": {},
   "outputs": [],
   "source": [
    "image = Image.open(os.path.join(imagedirectories[0], os.listdir(imagedirectories[0])[0]))"
   ]
  },
  {
   "cell_type": "code",
   "execution_count": 4,
   "id": "3f48ea57",
   "metadata": {},
   "outputs": [],
   "source": [
    "nrows, ncolumns = image.height, image.width"
   ]
  },
  {
   "cell_type": "code",
   "execution_count": 5,
   "id": "c36ce7c5",
   "metadata": {},
   "outputs": [
    {
     "name": "stdout",
     "output_type": "stream",
     "text": [
      "6977\n"
     ]
    }
   ],
   "source": [
    "nimages=0\n",
    "for i in imagedirectories:\n",
    "    nimages=nimages+len(os.listdir(i))\n",
    "print(nimages)"
   ]
  },
  {
   "cell_type": "code",
   "execution_count": 6,
   "id": "7ac0175d",
   "metadata": {},
   "outputs": [
    {
     "name": "stdout",
     "output_type": "stream",
     "text": [
      "(361, 6977)\n"
     ]
    }
   ],
   "source": [
    "X_tr=np.empty([nrows*ncolumns,nimages])\n",
    "print(X_tr.shape)"
   ]
  },
  {
   "cell_type": "code",
   "execution_count": 7,
   "id": "d0b9bb30",
   "metadata": {},
   "outputs": [],
   "source": [
    "file_num=0\n",
    "for imagedirectory in imagedirectories:\n",
    "    for filename in os.listdir(imagedirectory):\n",
    "        image = Image.open(os.path.join(imagedirectory, filename))\n",
    "        X_tr[:,file_num] = np.asarray(image.getdata())\n",
    "        file_num=file_num+1"
   ]
  },
  {
   "cell_type": "code",
   "execution_count": 8,
   "id": "304706a3",
   "metadata": {},
   "outputs": [
    {
     "data": {
      "text/plain": [
       "array([[104., 112.,  91., ..., 253., 245., 175.],\n",
       "       [122., 134., 109., ..., 253., 248., 159.],\n",
       "       [142., 160., 132., ..., 253., 250., 167.],\n",
       "       ...,\n",
       "       [109., 127., 123., ..., 202.,  75.,  24.],\n",
       "       [ 86.,  98.,  78., ..., 253.,  48.,  26.],\n",
       "       [ 71.,  74.,  83., ..., 253.,  44.,  32.]])"
      ]
     },
     "execution_count": 8,
     "metadata": {},
     "output_type": "execute_result"
    }
   ],
   "source": [
    "X_tr"
   ]
  },
  {
   "cell_type": "code",
   "execution_count": 9,
   "id": "a4659839",
   "metadata": {},
   "outputs": [
    {
     "name": "stdout",
     "output_type": "stream",
     "text": [
      "(6977,)\n"
     ]
    }
   ],
   "source": [
    "y_1=np.ones(len(os.listdir('./train/face')))\n",
    "y_2=np.ones(len(os.listdir('./train/non-face')))\n",
    "y_tr=np.append(y_1,-y_2)\n",
    "print(y_tr.shape)"
   ]
  },
  {
   "cell_type": "code",
   "execution_count": 10,
   "id": "2743110a",
   "metadata": {},
   "outputs": [],
   "source": [
    "def train_weak_learner(W,F,sample_weight,y_tr):\n",
    "    minerror=1\n",
    "    mine_threshold=0\n",
    "    mine_sign=-1\n",
    "    mine_f=0\n",
    "    for f in range(F):\n",
    "        thresholds=np.sort(W[f])\n",
    "        arg_thresholds=np.argsort(W[f])\n",
    "        errors=[]\n",
    "        \n",
    "        #consider first threshold and sign=1\n",
    "        prediction=np.ones(W.shape[1])\n",
    "        prediction[W[f]<thresholds[0]]=-1\n",
    "        error=np.sum((prediction!=y_tr)*sample_weight)\n",
    "        if(error<minerror):\n",
    "            minerror=error\n",
    "            mine_threshold=thresholds[0]\n",
    "            mine_sign=1\n",
    "            mine_f=f\n",
    "        errors.append(error)\n",
    "        \n",
    "        #consider first threshold and sign=-1\n",
    "        prediction=np.ones(W.shape[1])\n",
    "        prediction[W[f]>=thresholds[0]]=-1\n",
    "        error=np.sum((prediction!=y_tr)*sample_weight)\n",
    "        if(error<minerror):\n",
    "            minerror=error\n",
    "            mine_threshold=thresholds[0]\n",
    "            mine_sign=-1\n",
    "            mine_f=f\n",
    "        errors.append(error)\n",
    "        \n",
    "        for i in range(1,thresholds.shape[0]):\n",
    "            #consider sign=1 and sign=-1\n",
    "            cury=y_tr[arg_thresholds[i-1]]              \n",
    "            if (cury==1):\n",
    "                #when we make threshold move on, we actually change the prediction of arg_thresholds[i-1] instead of  arg_thresholds[i]\n",
    "                errors[0]=errors[0]+sample_weight[arg_thresholds[i-1]]\n",
    "                errors[1]=errors[1]-sample_weight[arg_thresholds[i-1]]\n",
    "            else:\n",
    "                errors[0]=errors[0]-sample_weight[arg_thresholds[i-1]]\n",
    "                errors[1]=errors[1]+sample_weight[arg_thresholds[i-1]]\n",
    "                \n",
    "            if(errors[0]<minerror):\n",
    "                minerror=errors[0]\n",
    "                mine_threshold=thresholds[i]\n",
    "                mine_sign=1\n",
    "                mine_f=f     \n",
    "            if(errors[1]<minerror):\n",
    "                minerror=errors[1]\n",
    "                mine_threshold=thresholds[i]\n",
    "                mine_sign=-1\n",
    "                mine_f=f     \n",
    "\n",
    "    return minerror,mine_f,mine_sign,mine_threshold"
   ]
  },
  {
   "cell_type": "code",
   "execution_count": 11,
   "id": "47a404b7",
   "metadata": {},
   "outputs": [],
   "source": [
    "# def train_weak_learner(W,F,sample_weight,y_tr):\n",
    "#     minerror=1\n",
    "#     mine_threshold=0\n",
    "#     mine_sign=-1\n",
    "#     mine_f=0\n",
    "#     for f in range(F):\n",
    "#         thresholds=np.sort(W[f])\n",
    "#         arg_thresholds=np.argsort(W[f])\n",
    "#         errors=[]\n",
    "#         for sign in [-1,1]:\n",
    "#             #sign=1 右face，左non-face；sign=-1，右non-face，左face\n",
    "#             error=0\n",
    "#             for j in range(W.shape[1]):\n",
    "#                 if (W[f][j]>=thresholds[0] and sign!=y_tr[j]) or (W[f][j]<thresholds[0] and (-sign)!=y_tr[j]):\n",
    "#                     error=error+sample_weight[j]\n",
    "#             errors.append(error)\n",
    "#             k=0\n",
    "#             if (sign==1):\n",
    "#                 k=1\n",
    "#             if(errors[k]<minerror):\n",
    "#                 minerror=errors[k]\n",
    "#                 mine_threshold=thresholds[0]\n",
    "#                 mine_sign=sign\n",
    "#                 mine_f=f\n",
    "#         for i in range(thresholds.shape[0]):\n",
    "#             for sign in [-1,1]:\n",
    "#                 k=0\n",
    "#                 if (sign==1):\n",
    "#                     k=1                \n",
    "#                 cury=y_tr[arg_thresholds[i]]\n",
    "#                 if (cury!=sign):\n",
    "#                     errors[k]=errors[k]-sample_weight[arg_thresholds[i]]\n",
    "#                 else:\n",
    "#                     errors[k]=errors[k]+sample_weight[arg_thresholds[i]]\n",
    "#                 if(errors[k]<minerror):\n",
    "                    \n",
    "#                     minerror=errors[k]\n",
    "#                     #防止数组越界\n",
    "#                     if (i==(thresholds.shape[0]-1)):\n",
    "#                         mine_threshold=thresholds[i]+1e-16\n",
    "#                     else:\n",
    "#                         mine_threshold=thresholds[i]\n",
    "#                     mine_sign=sign\n",
    "#                     mine_f=f\n",
    "#     return minerror,mine_f,mine_sign,mine_threshold\n",
    "\n",
    "    \n",
    "def get_alpha(e):\n",
    "#     print(e)\n",
    "    return 0.5*np.log((1-e)/e)\n",
    "\n",
    "def adaboost_train(X_tr,y_tr,T,F):\n",
    "#     minerrors=[]\n",
    "    U,S,V=np.linalg.svd(X_tr)\n",
    "    E=U[:,:F]\n",
    "    W=np.linalg.pinv(E)@X_tr\n",
    "    #initialize\n",
    "    sample_weight=np.ones(X_tr.shape[1])/X_tr.shape[1]\n",
    "    weak_learners=[]\n",
    "    for t in range(T):\n",
    "        error,f,sign,threshold=train_weak_learner(W,F,sample_weight,y_tr)\n",
    "#         print(error)\n",
    "#         minerrors.append(error)\n",
    "        alpha_t=get_alpha(error)\n",
    "        #f表示特征\n",
    "        weak_learners.append([alpha_t,f,sign,threshold])\n",
    "        for j in range(W.shape[1]):\n",
    "            if (W[f][j]>=threshold and sign!=y_tr[j]) or (W[f][j]<threshold and (-sign)!=y_tr[j]):\n",
    "                sample_weight[j]=sample_weight[j]*np.exp(alpha_t)\n",
    "            else:\n",
    "                sample_weight[j]=sample_weight[j]*np.exp(-alpha_t)\n",
    "        sample_weight=sample_weight/np.sum(sample_weight)\n",
    "#         print(sample_weight)\n",
    "    return weak_learners,E"
   ]
  },
  {
   "cell_type": "code",
   "execution_count": 12,
   "id": "ee53fb02",
   "metadata": {},
   "outputs": [
    {
     "name": "stdout",
     "output_type": "stream",
     "text": [
      "24045\n",
      "(361, 24045)\n"
     ]
    }
   ],
   "source": [
    "imagedirectories=['./test/face','./test/non-face']\n",
    "image = Image.open(os.path.join(imagedirectories[0], os.listdir(imagedirectories[0])[0]))\n",
    "nrows, ncolumns = image.height, image.width\n",
    "nimages=0\n",
    "for i in imagedirectories:\n",
    "    nimages=nimages+len(os.listdir(i))\n",
    "print(nimages)\n",
    "X_te=np.empty([nrows*ncolumns,nimages])\n",
    "print(X_te.shape)"
   ]
  },
  {
   "cell_type": "code",
   "execution_count": 13,
   "id": "c07a32bb",
   "metadata": {},
   "outputs": [],
   "source": [
    "file_num=0\n",
    "for imagedirectory in imagedirectories:\n",
    "    for filename in os.listdir(imagedirectory):\n",
    "        image = Image.open(os.path.join(imagedirectory, filename))\n",
    "        X_te[:,file_num] = np.asarray(image.getdata())\n",
    "        file_num=file_num+1"
   ]
  },
  {
   "cell_type": "code",
   "execution_count": 14,
   "id": "44cb3d7d",
   "metadata": {},
   "outputs": [
    {
     "data": {
      "text/plain": [
       "array([[104.,  57.,  97., ..., 233., 156., 113.],\n",
       "       [102.,  59., 115., ..., 236., 159., 113.],\n",
       "       [104.,  58., 145., ..., 240., 165., 117.],\n",
       "       ...,\n",
       "       [138., 136., 165., ..., 199., 167., 149.],\n",
       "       [131., 111., 168., ..., 195., 164., 150.],\n",
       "       [125.,  82., 173., ..., 190., 156., 151.]])"
      ]
     },
     "execution_count": 14,
     "metadata": {},
     "output_type": "execute_result"
    }
   ],
   "source": [
    "X_te"
   ]
  },
  {
   "cell_type": "code",
   "execution_count": 15,
   "id": "0b7bd174",
   "metadata": {},
   "outputs": [
    {
     "name": "stdout",
     "output_type": "stream",
     "text": [
      "(24045,)\n"
     ]
    }
   ],
   "source": [
    "y_1=np.ones(len(os.listdir('./test/face')))\n",
    "y_2=np.ones(len(os.listdir('./test/non-face')))\n",
    "y_te=np.append(y_1,-y_2)\n",
    "print(y_te.shape)"
   ]
  },
  {
   "cell_type": "code",
   "execution_count": 16,
   "id": "291c594f",
   "metadata": {},
   "outputs": [
    {
     "data": {
      "text/plain": [
       "array([ 1.,  1.,  1., ..., -1., -1., -1.])"
      ]
     },
     "execution_count": 16,
     "metadata": {},
     "output_type": "execute_result"
    }
   ],
   "source": [
    "y_te"
   ]
  },
  {
   "cell_type": "code",
   "execution_count": 17,
   "id": "27a1fa15",
   "metadata": {},
   "outputs": [],
   "source": [
    "def adaboost_predict(E,X_te,model):\n",
    "    W_te=np.linalg.pinv(E)@X_te\n",
    "    y_pred=[]\n",
    "    for i in range(W_te.shape[1]):\n",
    "        tempsum=0\n",
    "        for weak_learner in model:\n",
    "            alpha=weak_learner[0]\n",
    "            f=weak_learner[1]\n",
    "            sign=weak_learner[2]\n",
    "            threshold=weak_learner[3]\n",
    "            if W_te[f][i]>=threshold:\n",
    "                if sign==1:\n",
    "                    tempsum=tempsum+alpha\n",
    "                else:\n",
    "                    tempsum=tempsum-alpha\n",
    "            else:\n",
    "                if sign==1:\n",
    "                    tempsum=tempsum-alpha\n",
    "                else:\n",
    "                    tempsum=tempsum+alpha\n",
    "        y_pred.append(np.sign(tempsum))\n",
    "    return y_pred"
   ]
  },
  {
   "cell_type": "markdown",
   "id": "bbee8a93",
   "metadata": {},
   "source": [
    "# 3.5.2"
   ]
  },
  {
   "cell_type": "code",
   "execution_count": 18,
   "id": "84d0338c",
   "metadata": {},
   "outputs": [
    {
     "name": "stdout",
     "output_type": "stream",
     "text": [
      "time cost 9.490286350250244 s\n"
     ]
    }
   ],
   "source": [
    "train_error=[]\n",
    "test_error=[]\n",
    "Ts=[10,50,100,150,200]\n",
    "time_start=time.time()\n",
    "model,eigenfaces=adaboost_train(X_tr,y_tr,200,10)\n",
    "time_end=time.time()\n",
    "print('time cost',time_end-time_start,'s')\n",
    "for T in Ts:\n",
    "    y_pred_tr=adaboost_predict(eigenfaces,X_tr,model[:T])\n",
    "    tr_e=1-np.sum(y_pred_tr==y_tr)/y_tr.shape[0]\n",
    "    y_pred_te=adaboost_predict(eigenfaces,X_te,model[:T])\n",
    "    te_e=1-np.sum(y_pred_te==y_te)/y_te.shape[0]\n",
    "    train_error.append(tr_e)\n",
    "    test_error.append(te_e)"
   ]
  },
  {
   "cell_type": "code",
   "execution_count": 19,
   "id": "01087e6a",
   "metadata": {},
   "outputs": [
    {
     "data": {
      "text/plain": [
       "[[0.5951793663354022, 3, 1, 39.118717758157345],\n",
       " [0.4574632131874288, 1, 1, 114.37401860251907],\n",
       " [0.3661597790633906, 2, -1, -57.724531065082765],\n",
       " [0.2917263860786582, 7, -1, -2.30532502309002],\n",
       " [0.2999736440449589, 5, -1, -73.00925869507387],\n",
       " [0.31943436656262014, 3, 1, -52.524815067657414],\n",
       " [0.3654483689759868, 0, -1, -2662.4660881824257],\n",
       " [0.3911821221845733, 1, 1, -103.52446734216005],\n",
       " [0.2586717346930103, 6, 1, 4.8066192364019],\n",
       " [0.20549332332268538, 9, 1, 15.925083746796872],\n",
       " [0.2036671633363459, 1, 1, 478.1760448348847],\n",
       " [0.26248581385578706, 3, 1, -136.84057709649483],\n",
       " [0.22876616295734578, 0, -1, -2360.16599131149],\n",
       " [0.18005732170399602, 2, -1, -131.75535658886122],\n",
       " [0.2038779924465911, 1, 1, -250.47038490460733],\n",
       " [0.20773744693952814, 0, -1, -3584.849771571209],\n",
       " [0.20176700477739898, 0, -1, -1464.8001686484486],\n",
       " [0.15876287372995945, 8, -1, -18.501836254566214],\n",
       " [0.14025584318859563, 3, 1, -190.0743206128206],\n",
       " [0.21634966252895957, 1, 1, 702.2906319179976],\n",
       " [0.18423252432491133, 6, 1, -79.3002670414169],\n",
       " [0.10933171632071102, 1, 1, -177.9053972747285],\n",
       " [0.16710745768039886, 1, 1, 628.9906692634958],\n",
       " [0.17259811164891942, 3, 1, -210.68704066624218],\n",
       " [0.15170705156041855, 2, -1, -675.5763119559016],\n",
       " [0.1405906572485652, 1, 1, -276.7759602877877],\n",
       " [0.12282719004005883, 0, -1, -3252.6657501018076],\n",
       " [0.13915077101857265, 1, -1, 124.84172473629434],\n",
       " [0.10228398163333874, 5, -1, -168.18237392367675],\n",
       " [0.12433788171990243, 3, 1, -28.058341927862784],\n",
       " [0.1037332499816096, 1, 1, 389.7336507987128],\n",
       " [0.1423475146058528, 7, -1, 79.32750130905673],\n",
       " [0.09761244315875672, 2, -1, 1.7063275416165844],\n",
       " [0.09508891960016341, 1, 1, 784.7346789091034],\n",
       " [0.12575015065190837, 1, 1, -323.55796650916193],\n",
       " [0.11072837049135113, 3, 1, 532.7394723623764],\n",
       " [0.12297292566059116, 0, -1, -1218.9595708938105],\n",
       " [0.09162799704104217, 1, 1, 784.7346789091034],\n",
       " [0.12176610562531183, 3, 1, -194.62150622904232],\n",
       " [0.104971008339024, 1, 1, 702.2906319179976],\n",
       " [0.11951253767059206, 9, 1, -40.026355823919005],\n",
       " [0.088803312095341, 3, -1, 38.86379573440337],\n",
       " [0.09753967796633428, 3, 1, 117.48735017780666],\n",
       " [0.11060543588686704, 9, -1, 135.19316693983697],\n",
       " [0.0984041267882784, 0, -1, -3766.6512164045344],\n",
       " [0.114541927792627, 2, -1, 356.9992134606272],\n",
       " [0.0945711039820236, 1, 1, 784.7346789091034],\n",
       " [0.11283479963855912, 4, 1, -188.84216297178864],\n",
       " [0.08378474672709713, 3, 1, 532.7394723623764],\n",
       " [0.10134607096604831, 1, 1, -338.9206426693421],\n",
       " [0.09260097851969573, 1, 1, 809.0384435223323],\n",
       " [0.09944234639412984, 3, 1, -210.68704066624218],\n",
       " [0.08888773920553807, 2, -1, -765.9437615918902],\n",
       " [0.09357432590328293, 5, -1, -9.622418805657986],\n",
       " [0.08100426342595943, 0, -1, -1673.8886248810368],\n",
       " [0.0774008769699104, 1, 1, -54.100075442678985],\n",
       " [0.07976690217069496, 9, 1, 37.0404519191506],\n",
       " [0.06982196489647219, 6, 1, 485.7952730319],\n",
       " [0.0944755569482052, 9, -1, 100.80874767126808],\n",
       " [0.059786749403095044, 7, -1, -92.78489965924135],\n",
       " [0.08128591533531039, 3, 1, -170.54589920017287],\n",
       " [0.08471613710960765, 6, 1, 485.7952730319],\n",
       " [0.08771410614635947, 2, -1, 342.68398513052404],\n",
       " [0.07213329432976243, 1, 1, 702.2906319179976],\n",
       " [0.07936160080798212, 6, 1, -137.1239691318848],\n",
       " [0.06364569560508086, 8, -1, -58.275472865476296],\n",
       " [0.0621798291969515, 2, 1, -56.585837523364134],\n",
       " [0.06309031845864776, 2, -1, -212.48065288646222],\n",
       " [0.0821344750952911, 1, 1, -332.47056221339477],\n",
       " [0.07624380802833751, 3, 1, 532.7394723623764],\n",
       " [0.08067411021964449, 3, 1, -210.68704066624218],\n",
       " [0.07249603901442413, 1, 1, 784.7346789091034],\n",
       " [0.08099359024493585, 0, -1, -906.385195816032],\n",
       " [0.07250113504635, 2, -1, -675.5763119559016],\n",
       " [0.07098201819184838, 7, -1, 108.88120927354684],\n",
       " [0.061452884112057606, 7, 1, -26.413850906409014],\n",
       " [0.06394893120002527, 9, 1, 37.0404519191506],\n",
       " [0.059750791757127594, 6, 1, 59.99980158527205],\n",
       " [0.05425597219469281, 6, -1, 7.165841320664157],\n",
       " [0.0499652096711285, 1, -1, 132.80365681942072],\n",
       " [0.06827756885738291, 1, 1, 275.81287956443157],\n",
       " [0.06516172458327534, 1, 1, -338.9206426693421],\n",
       " [0.07062665425008041, 0, -1, -3214.7078793703677],\n",
       " [0.06571646343936989, 3, 1, -285.6029084815498],\n",
       " [0.06976492737695525, 6, 1, 485.7952730319],\n",
       " [0.06858786494291913, 2, -1, 404.20627306120275],\n",
       " [0.0591083776802636, 5, 1, 228.87011367770288],\n",
       " [0.06375071027214976, 4, 1, -215.54098359740445],\n",
       " [0.056821558946966, 3, 1, 179.41453360938772],\n",
       " [0.05649106649708537, 6, 1, -59.798393781734035],\n",
       " [0.05111214132925104, 6, 1, 485.7952730319],\n",
       " [0.06953384859743354, 1, 1, -309.7255231083558],\n",
       " [0.06173851202823953, 1, 1, 809.0384435223323],\n",
       " [0.06727111530494775, 0, -1, -906.385195816032],\n",
       " [0.060342301324149854, 1, 1, 809.0384435223323],\n",
       " [0.06727034572851101, 5, 1, -281.105327996769],\n",
       " [0.05607893700863965, 3, 1, 532.7394723623764],\n",
       " [0.06556350372190904, 7, -1, 35.77756367504527],\n",
       " [0.048981738940840576, 0, 1, -2147.8757313552933],\n",
       " [0.05369961607895972, 0, -1, -1387.0800905140718],\n",
       " [0.06949310736768537, 2, -1, -765.9437615918902],\n",
       " [0.06406801982796619, 9, -1, 143.55198868089542],\n",
       " [0.04953526974189819, 0, -1, -3766.6512164045344],\n",
       " [0.06280379010127489, 3, 1, -285.6029084815498],\n",
       " [0.06139674675654614, 1, 1, 702.2906319179976],\n",
       " [0.05783669640696864, 3, 1, -285.6029084815498],\n",
       " [0.05516089735478684, 6, 1, 485.7952730319],\n",
       " [0.056990713147747174, 1, 1, -338.9206426693421],\n",
       " [0.05237053447050644, 3, 1, 532.7394723623764],\n",
       " [0.05457248714227722, 0, -1, -906.385195816032],\n",
       " [0.05078436312813513, 1, 1, 702.2906319179976],\n",
       " [0.05414223979793251, 2, -1, 620.4317499009388],\n",
       " [0.051734275638630804, 6, 1, 318.00165356386276],\n",
       " [0.052966616186978906, 3, 1, -285.6029084815498],\n",
       " [0.05129871413296979, 2, -1, -675.5763119559016],\n",
       " [0.052922916920961065, 1, 1, -148.16650837563816],\n",
       " [0.043611284627196295, 1, -1, 74.22804655182307],\n",
       " [0.04724055721678671, 1, 1, 395.81393555784325],\n",
       " [0.04790747571521153, 8, 1, -189.5140647701725],\n",
       " [0.05103190636955824, 0, -1, -3214.7078793703677],\n",
       " [0.04904081281843206, 3, 1, -28.058341927862784],\n",
       " [0.06394504702004962, 3, -1, 38.86379573440337],\n",
       " [0.05335408250883516, 3, 1, 97.0131244390239],\n",
       " [0.0484431869685615, 9, 1, -8.097737166330347],\n",
       " [0.045153941889517886, 1, 1, 31.47377565748934],\n",
       " [0.0531171683768595, 1, -1, 133.8492607322604],\n",
       " [0.045075864216987, 1, 1, 256.2693240730007],\n",
       " [0.04449313742330941, 2, -1, 140.32760673664473],\n",
       " [0.049832048522995546, 2, 1, -49.897629552345094],\n",
       " [0.05224646988914396, 2, -1, -225.60627641446712],\n",
       " [0.04922913434945836, 5, -1, -1.8233306637759767],\n",
       " [0.049206183292739965, 5, 1, -134.95098209886106],\n",
       " [0.0410202615510594, 6, 1, 485.7952730319],\n",
       " [0.05213077007630989, 0, -1, -803.4910307130476],\n",
       " [0.04881596212596767, 6, 1, 485.7952730319],\n",
       " [0.04975601159954921, 4, -1, 237.95191011728315],\n",
       " [0.0449282477465209, 4, 1, -8.94271377812197],\n",
       " [0.057811948761190855, 4, -1, -52.502779894012185],\n",
       " [0.04601927241438758, 4, 1, -8.94271377812197],\n",
       " [0.03701829216251878, 3, -1, 40.208286809060255],\n",
       " [0.04763925535231723, 3, 1, 9.537291406038662],\n",
       " [0.04015934158062755, 3, -1, 38.86379573440337],\n",
       " [0.03553817078135998, 5, 1, 186.41372432309086],\n",
       " [0.048108201037080134, 3, 1, -285.6029084815498],\n",
       " [0.04940671976690197, 6, 1, 485.7952730319],\n",
       " [0.0484006066970949, 2, -1, 633.9244056352354],\n",
       " [0.04666253354127972, 3, 1, 532.7394723623764],\n",
       " [0.04732334711675454, 1, 1, -350.6420100541863],\n",
       " [0.04449746525527233, 1, 1, 702.2906319179976],\n",
       " [0.04715062539359231, 3, 1, -285.6029084815498],\n",
       " [0.04591654936472275, 6, 1, 485.7952730319],\n",
       " [0.047200684339776554, 0, -1, -781.4826803751312],\n",
       " [0.044981876487604086, 3, 1, 722.991566666269],\n",
       " [0.04440341893140457, 7, 1, -183.8805664046064],\n",
       " [0.04302811125615171, 7, -1, -111.31989849989463],\n",
       " [0.04582463642949558, 7, 1, -26.413850906409014],\n",
       " [0.039030433270823936, 7, -1, 12.051284185235083],\n",
       " [0.03635748241205466, 8, 1, -22.024553444913362],\n",
       " [0.04244575245080058, 8, -1, -58.275472865476296],\n",
       " [0.0365210327644141, 3, 1, 9.537291406038662],\n",
       " [0.03554477935701791, 4, -1, -54.53220978905628],\n",
       " [0.03821887618680135, 4, 1, -193.77855848521472],\n",
       " [0.04771260669032097, 2, -1, -893.7300623925642],\n",
       " [0.04614897669996234, 0, -1, -1395.858181610459],\n",
       " [0.035660013355159746, 5, -1, -98.70175101164807],\n",
       " [0.03299914090704606, 5, 1, -134.95098209886106],\n",
       " [0.03570964667806549, 1, 1, 869.3739845061687],\n",
       " [0.046993981577178594, 6, 1, -137.1239691318848],\n",
       " [0.03781471525670247, 6, -1, 3.9956348000319792],\n",
       " [0.038570900036280685, 6, 1, 28.940934750100197],\n",
       " [0.03162697012327392, 6, -1, 6.135499543446656],\n",
       " [0.034780038917183724, 6, 1, -14.733771105512858],\n",
       " [0.033766445073529834, 6, -1, -413.77630524467384],\n",
       " [0.046761714892293735, 2, -1, 500.07470722454616],\n",
       " [0.04305048205887873, 1, 1, 869.3739845061687],\n",
       " [0.04491363621289752, 1, 1, -350.6420100541863],\n",
       " [0.04165694934951278, 1, 1, 869.3739845061687],\n",
       " [0.04396482665952241, 8, 1, -189.5140647701725],\n",
       " [0.04095136889375651, 0, -1, -3834.22549115018],\n",
       " [0.042042064699197336, 3, 1, -285.6029084815498],\n",
       " [0.04175491665097725, 1, 1, 702.2906319179976],\n",
       " [0.04223718639923202, 4, -1, 237.95191011728315],\n",
       " [0.03826929851393146, 6, 1, 485.7952730319],\n",
       " [0.04125582675378343, 2, -1, 633.9244056352354],\n",
       " [0.03929852167462453, 2, -1, -893.7300623925642],\n",
       " [0.040776906684003474, 0, -1, -781.4826803751312],\n",
       " [0.03919643476441758, 1, 1, 869.3739845061687],\n",
       " [0.04081851903085389, 5, 1, -285.4447796626599],\n",
       " [0.03727096259750682, 5, -1, -143.8925692919569],\n",
       " [0.035757133231466245, 1, 1, 41.405123473658534],\n",
       " [0.03874033842306418, 1, -1, 74.58090138862849],\n",
       " [0.03422193075383052, 1, 1, 41.405123473658534],\n",
       " [0.03026668906518133, 1, -1, 74.58090138862849],\n",
       " [0.03196728533351833, 6, -1, 3.9956348000319792],\n",
       " [0.030714592052804357, 4, 1, 33.21657003173645],\n",
       " [0.030906710492815334, 4, -1, 98.36780183189029],\n",
       " [0.035670613080525666, 6, 1, 318.00165356386276],\n",
       " [0.04136440787667086, 7, 1, -210.2907930188458],\n",
       " [0.03869486908126732, 3, 1, 532.7394723623764],\n",
       " [0.04008595393553237, 7, -1, 127.45384161054565]]"
      ]
     },
     "execution_count": 19,
     "metadata": {},
     "output_type": "execute_result"
    }
   ],
   "source": [
    "model"
   ]
  },
  {
   "cell_type": "code",
   "execution_count": 20,
   "id": "dd5171ae",
   "metadata": {},
   "outputs": [
    {
     "data": {
      "text/plain": [
       "[0.12397878744446034,\n",
       " 0.07123405475132583,\n",
       " 0.0632076823849792,\n",
       " 0.05933782427977641,\n",
       " 0.05790454350007168]"
      ]
     },
     "execution_count": 20,
     "metadata": {},
     "output_type": "execute_result"
    }
   ],
   "source": [
    "train_error"
   ]
  },
  {
   "cell_type": "code",
   "execution_count": 21,
   "id": "c42fb96e",
   "metadata": {},
   "outputs": [
    {
     "data": {
      "text/plain": [
       "[0.16697858182574343,\n",
       " 0.09881472239550837,\n",
       " 0.08725306716573089,\n",
       " 0.08039093366604289,\n",
       " 0.0800998128509045]"
      ]
     },
     "execution_count": 21,
     "metadata": {},
     "output_type": "execute_result"
    }
   ],
   "source": [
    "test_error"
   ]
  },
  {
   "cell_type": "code",
   "execution_count": 22,
   "id": "d4a331d4",
   "metadata": {},
   "outputs": [
    {
     "data": {
      "text/plain": [
       "[]"
      ]
     },
     "execution_count": 22,
     "metadata": {},
     "output_type": "execute_result"
    },
    {
     "data": {
      "image/png": "[encoded data removed]",
      "text/plain": [
       "<Figure size 640x480 with 1 Axes>"
      ]
     },
     "metadata": {},
     "output_type": "display_data"
    }
   ],
   "source": [
    "fig,ax=plt.subplots()\n",
    "ax.plot(Ts,train_error,label=\"training_error\")\n",
    "ax.plot(Ts,test_error,label=\"testing_error\")\n",
    "ax.set_xlabel(\"T\")\n",
    "ax.set_ylabel(\"error\")\n",
    "ax.legend()\n",
    "plt.plot()"
   ]
  },
  {
   "cell_type": "markdown",
   "id": "a505ef16",
   "metadata": {},
   "source": [
    "# 3.5.3"
   ]
  },
  {
   "cell_type": "code",
   "execution_count": 23,
   "id": "ce22ab3f",
   "metadata": {},
   "outputs": [
    {
     "data": {
      "text/plain": [
       "[]"
      ]
     },
     "execution_count": 23,
     "metadata": {},
     "output_type": "execute_result"
    },
    {
     "data": {
      "image/png": "[encoded data removed]",
      "text/plain": [
       "<Figure size 640x480 with 1 Axes>"
      ]
     },
     "metadata": {},
     "output_type": "display_data"
    }
   ],
   "source": [
    "#k=F=30\n",
    "train_error=[]\n",
    "test_error=[]\n",
    "Ts=[10,50,100,150,200]\n",
    "model,eigenfaces=adaboost_train(X_tr,y_tr,200,30)\n",
    "for T in Ts:\n",
    "    y_pred_tr=adaboost_predict(eigenfaces,X_tr,model[:T])\n",
    "    tr_e=1-np.sum(y_pred_tr==y_tr)/y_tr.shape[0]\n",
    "    y_pred_te=adaboost_predict(eigenfaces,X_te,model[:T])\n",
    "    te_e=1-np.sum(y_pred_te==y_te)/y_te.shape[0]\n",
    "    train_error.append(tr_e)\n",
    "    test_error.append(te_e)\n",
    "fig,ax=plt.subplots()\n",
    "ax.plot(Ts,train_error,label=\"training_error\")\n",
    "ax.plot(Ts,test_error,label=\"testing_error\")\n",
    "ax.set_xlabel(\"T\")\n",
    "ax.set_ylabel(\"error\")\n",
    "ax.legend()\n",
    "plt.plot()"
   ]
  },
  {
   "cell_type": "code",
   "execution_count": 24,
   "id": "8bd819af",
   "metadata": {},
   "outputs": [
    {
     "data": {
      "text/plain": [
       "[[0.5951793663354022, 3, 1, 39.11871775815746],\n",
       " [0.4574632131874288, 1, 1, 114.37401860251862],\n",
       " [0.3661597790633906, 2, -1, -57.7245310650833],\n",
       " [0.2917263860786582, 7, -1, -2.305325023089911],\n",
       " [0.2999736440449589, 5, -1, -73.00925869507404],\n",
       " [0.31943436656262014, 3, 1, -52.5248150676573],\n",
       " [0.3654483689759868, 0, -1, -2662.4660881824257],\n",
       " [0.3911821221845733, 1, 1, -103.52446734216028],\n",
       " [0.2586717346930103, 6, 1, 4.8066192364011044],\n",
       " [0.24229759597625822, 21, -1, -38.465901628909705],\n",
       " [0.20943901844800888, 0, -1, -1619.2252769819731],\n",
       " [0.22155564416548845, 11, 1, 14.106133199037131],\n",
       " [0.20380599907557304, 9, 1, 15.9250837467971],\n",
       " [0.19992127135764517, 19, -1, -48.33636015464674],\n",
       " [0.24968992842633103, 3, 1, -136.8405770964955],\n",
       " [0.24665202208511863, 1, 1, 478.17604483488435],\n",
       " [0.2287278456814322, 27, 1, -31.26343670308118],\n",
       " [0.19630855094605137, 8, -1, -18.420743725682996],\n",
       " [0.20259423338190005, 18, 1, -6.095766444269341],\n",
       " [0.19007342710238395, 2, -1, 1.5007761532004391],\n",
       " [0.19546982788599784, 13, 1, 11.398767935463152],\n",
       " [0.21653628225240942, 0, -1, -3210.733120472252],\n",
       " [0.24697674436524134, 1, 1, -252.36970108237063],\n",
       " [0.20140418743067226, 3, 1, 199.23384616958754],\n",
       " [0.19773643522398895, 23, 1, -24.198334109075404],\n",
       " [0.16125912834945083, 0, -1, -2360.16599131149],\n",
       " [0.14945655319414552, 3, 1, -164.07285574197942],\n",
       " [0.2163616845333812, 1, 1, 702.2906319179983],\n",
       " [0.19050265511226694, 6, 1, -79.30026704141667],\n",
       " [0.1489749294188814, 2, -1, -119.44379527380913],\n",
       " [0.15500934228957844, 12, 1, -51.082919424413596],\n",
       " [0.14710437396854417, 0, -1, -3629.377340093339],\n",
       " [0.19125186705036917, 3, 1, -208.04041613812103],\n",
       " [0.16659913485256228, 1, 1, 558.0546733536886],\n",
       " [0.1866678694268717, 1, 1, -224.61078772981],\n",
       " [0.1414238771189369, 0, -1, -3629.377340093339],\n",
       " [0.17663067466495866, 15, 1, -64.95832825600226],\n",
       " [0.1329674940869645, 21, -1, -66.09627839107786],\n",
       " [0.15339047737677092, 0, -1, -1387.0800905140716],\n",
       " [0.13782647367010464, 2, -1, -675.5763119559016],\n",
       " [0.17110093188329906, 17, -1, 54.77316883445965],\n",
       " [0.13101685741702063, 26, 1, -0.6578192840791388],\n",
       " [0.12619797986118902, 28, 1, 55.12224316522665],\n",
       " [0.14278724921189961, 12, -1, 64.88060012300818],\n",
       " [0.12531709043319636, 5, -1, -223.82228350070702],\n",
       " [0.1558149324095451, 3, 1, -28.058341927862443],\n",
       " [0.11052399950285234, 19, -1, -1.8300163057727445],\n",
       " [0.10639785255003047, 7, -1, 32.35878865542046],\n",
       " [0.12864519916806924, 2, -1, -223.19471134208595],\n",
       " [0.1261235640065994, 1, 1, -315.14156039420277],\n",
       " [0.15157295261588538, 1, 1, 724.8182980649038],\n",
       " [0.1427947709469909, 3, 1, -210.68704066624196],\n",
       " [0.12954305142144074, 3, 1, 511.4225880887543],\n",
       " [0.13534546265295194, 2, -1, 170.43801462417895],\n",
       " [0.11526392424306121, 27, 1, -4.282315231780458],\n",
       " [0.11441109939463676, 16, -1, -38.50099082047981],\n",
       " [0.10900359688896238, 13, 1, -31.911578528743746],\n",
       " [0.11829682831889045, 0, -1, -2342.306916190914],\n",
       " [0.11197914393748787, 1, 1, -54.46401368516706],\n",
       " [0.11179683572130944, 11, 1, 47.72500697627288],\n",
       " [0.10980046580831034, 10, -1, 49.25836674747342],\n",
       " [0.10959786091862288, 0, -1, -3825.448486513179],\n",
       " [0.13231544830662292, 4, 1, -170.88333257274593],\n",
       " [0.10763488305949492, 21, -1, -5.32771557748462],\n",
       " [0.10307939170044621, 3, 1, 107.01376457834607],\n",
       " [0.10606538934672999, 5, -1, -14.700336384919922],\n",
       " [0.10427521585234485, 2, -1, -893.7300623925651],\n",
       " [0.13809881675113572, 1, 1, -315.14156039420277],\n",
       " [0.11669748572045259, 2, -1, -675.5763119559016],\n",
       " [0.13281090032130216, 15, 1, -98.07055445404828],\n",
       " [0.11252350947970235, 6, 1, 146.97192153473782],\n",
       " [0.12030948229657489, 23, 1, -41.14350883615792],\n",
       " [0.10426513827948197, 7, -1, -111.31989849989458],\n",
       " [0.10910983869379422, 3, 1, -200.54016918874652],\n",
       " [0.1261460954595751, 1, 1, 542.1971656463394],\n",
       " [0.11831110552267925, 24, 1, -48.9634342218621],\n",
       " [0.08525939123351105, 0, -1, -3240.162086032722],\n",
       " [0.11432661457224096, 26, 1, -59.65141391634094],\n",
       " [0.0875583390146078, 3, 1, 460.75330839344736],\n",
       " [0.11288011774427421, 12, 1, -92.29919406351772],\n",
       " [0.09165888893133062, 1, 1, 356.93759748914795],\n",
       " [0.10898542320435418, 9, 1, -40.02635582391875],\n",
       " [0.07403116447362029, 0, -1, -1400.657312184574],\n",
       " [0.11178665840786337, 1, 1, 784.7346789091041],\n",
       " [0.11593341994715609, 3, 1, -210.68704066624196],\n",
       " [0.10346487997226025, 0, -1, -3766.6512164045344],\n",
       " [0.11059245908310472, 9, -1, 137.20408007759886],\n",
       " [0.08506473774428544, 2, -1, -197.56679612624325],\n",
       " [0.0977732439979071, 10, 1, -82.82112372154548],\n",
       " [0.08654306066275926, 13, 1, 3.8288995794904377],\n",
       " [0.1045947025328457, 2, -1, -893.7300623925651],\n",
       " [0.11317113298941085, 1, 1, -338.9206426693423],\n",
       " [0.10450878571017479, 3, 1, 521.0437362377012],\n",
       " [0.10488713499471257, 6, 1, -137.12396913188502],\n",
       " [0.08885417658331021, 3, 1, 197.77428837083113],\n",
       " [0.08814277397616196, 27, 1, -68.30714445798088],\n",
       " [0.0950190825095329, 1, 1, 784.7346789091041],\n",
       " [0.10173364134491028, 22, -1, 57.491004041800856],\n",
       " [0.07781649598861362, 16, 1, 84.44702701150149],\n",
       " [0.09681310670461522, 13, -1, 120.14900162315934],\n",
       " [0.08634867744606882, 6, 1, 485.79527303189985],\n",
       " [0.10342873749465202, 1, 1, -315.14156039420277],\n",
       " [0.09166382290809622, 0, -1, -2838.5009326751924],\n",
       " [0.07645206274629245, 25, 1, -33.134654270761104],\n",
       " [0.07495198175004078, 2, -1, -893.7300623925651],\n",
       " [0.10157700783305768, 22, 1, -112.38099985819404],\n",
       " [0.0909966777710893, 1, 1, 784.7346789091041],\n",
       " [0.1028018522858849, 3, 1, -170.5458992001723],\n",
       " [0.09042554713075203, 19, -1, -108.43888024269152],\n",
       " [0.09379212045352268, 0, -1, -1329.5750150619842],\n",
       " [0.07462782638903259, 1, 1, -18.466750355311774],\n",
       " [0.0774004921344911, 2, -1, -805.556457876033],\n",
       " [0.10334078006746501, 2, -1, 356.9992134606277],\n",
       " [0.08690561289216087, 6, 1, 485.79527303189985],\n",
       " [0.10201606287556746, 23, 1, -73.0530151664783],\n",
       " [0.08569142072999772, 1, 1, 784.7346789091041],\n",
       " [0.09959734761351716, 15, 1, -93.23136529189446],\n",
       " [0.08332777976316626, 9, 1, 37.040451919150456],\n",
       " [0.07314030863706121, 8, -1, -66.70626282074876],\n",
       " [0.0831007243022738, 12, 1, -48.35961762868738],\n",
       " [0.07193713990148287, 16, -1, -249.5932597305893],\n",
       " [0.10230387782786535, 12, -1, 106.7513583898276],\n",
       " [0.0764829631689819, 2, -1, -893.7300623925651],\n",
       " [0.09848004423795921, 20, 1, -89.07111913449125],\n",
       " [0.07738761971549246, 6, 1, 485.79527303189985],\n",
       " [0.09423563879152012, 17, -1, 84.60181064744683],\n",
       " [0.07525579779834041, 1, 1, 371.2255823441142],\n",
       " [0.09246124247177889, 3, 1, -150.9652873976371],\n",
       " [0.08520143265828302, 14, -1, -204.85612233260113],\n",
       " [0.08976767115517062, 0, -1, -906.3851958160321],\n",
       " [0.0845233858702253, 6, 1, 485.79527303189985],\n",
       " [0.09214700838215645, 15, -1, 101.04877813970182],\n",
       " [0.0727720884443838, 3, 1, 511.4225880887543],\n",
       " [0.08882779086145746, 17, 1, -84.51547285766799],\n",
       " [0.07446323680281244, 21, -1, -84.4459993780593],\n",
       " [0.07986628280555076, 18, 1, -87.25912857751888],\n",
       " [0.07735821213400004, 2, -1, -893.7300623925651],\n",
       " [0.0868607345081579, 1, 1, -338.9206426693423],\n",
       " [0.07958080661219946, 1, 1, 784.7346789091041],\n",
       " [0.08666279135304808, 27, 1, -89.75802572951969],\n",
       " [0.07907510344738743, 3, 1, 277.52287136821553],\n",
       " [0.08020716878050205, 7, -1, 59.51018058041012],\n",
       " [0.07326212596464687, 20, -1, -12.394398442906038],\n",
       " [0.06935500054601176, 5, -1, -14.700336384919922],\n",
       " [0.07358880948371119, 2, -1, -274.2964234638273],\n",
       " [0.08272908952434455, 9, -1, 107.76207960915475],\n",
       " [0.0697769675083837, 29, -1, -17.748834971039486],\n",
       " [0.06876868707333213, 13, 1, -13.984278792572516],\n",
       " [0.07705223659412481, 11, -1, -196.23273620644187],\n",
       " [0.08457205239071389, 4, 1, -224.04829043093588],\n",
       " [0.07472787618829516, 3, 1, 97.8813100185065],\n",
       " [0.0615659558601956, 6, 1, 61.42521739845844],\n",
       " [0.06720184513086509, 0, -1, -1551.9101036564502],\n",
       " [0.06315693396517284, 11, 1, 43.0627814354753],\n",
       " [0.06935073376896311, 17, -1, 14.188011920238807],\n",
       " [0.060499345428866945, 1, 1, -159.79013113597796],\n",
       " [0.0749352452535142, 6, -1, -414.75325029698917],\n",
       " [0.08808771639520234, 15, 1, -112.84901049760413],\n",
       " [0.0788228769884576, 0, -1, -3912.2318749742944],\n",
       " [0.08796396876416461, 3, 1, -210.68704066624196],\n",
       " [0.08043335047252935, 2, -1, -801.6673517062703],\n",
       " [0.08358422272388524, 29, 1, -68.89639765771946],\n",
       " [0.0669775577433774, 14, -1, -114.65792586795506],\n",
       " [0.06815109251237658, 19, -1, 68.3518200707573],\n",
       " [0.06607132109249883, 18, 1, 365.12889449653494],\n",
       " [0.08571766530065376, 23, 1, -90.06687720588667],\n",
       " [0.07599209312262373, 1, 1, 702.2906319179983],\n",
       " [0.08163613851902228, 18, -1, 97.81070162094366],\n",
       " [0.07299109348448342, 18, 1, 39.17102135031337],\n",
       " [0.05960367437040896, 27, -1, 49.088217233130585],\n",
       " [0.07933308718183613, 27, 1, 1.5895152516159001],\n",
       " [0.06893049037998476, 2, -1, -128.84214589679414],\n",
       " [0.05926536541329365, 0, -1, -2541.608303766314],\n",
       " [0.0764283234534789, 3, 1, -36.604955662527914],\n",
       " [0.06657900375723061, 1, 1, 31.473775657489796],\n",
       " [0.06824708469067572, 1, -1, 132.80365681942067],\n",
       " [0.07975732238394505, 28, 1, 92.97097963232477],\n",
       " [0.07752235059445228, 1, 1, -332.47056221339454],\n",
       " [0.0794029161383252, 6, 1, 310.80938141220827],\n",
       " [0.08317730214623817, 29, -1, 71.20417520861432],\n",
       " [0.07408399650349665, 1, 1, 371.2255823441142],\n",
       " [0.07410787720215832, 23, -1, 58.362626602947444],\n",
       " [0.07841730585477417, 23, 1, 14.553263558883259],\n",
       " [0.06376039256233382, 21, -1, -8.940832920478169],\n",
       " [0.05933334723220905, 5, -1, -123.03182641412525],\n",
       " [0.06325881418412177, 26, 1, -63.80583806747764],\n",
       " [0.0827342409616426, 0, -1, -3753.8587958750095],\n",
       " [0.07937325222722642, 27, 1, -61.26339358748527],\n",
       " [0.06577250054228989, 3, 1, 521.0437362377012],\n",
       " [0.08235206137974539, 17, 1, -53.096802669420484],\n",
       " [0.057012278130146, 9, 1, 8.710880339534],\n",
       " [0.056352959768618094, 20, 1, 65.16230202382425],\n",
       " [0.06897038840320087, 22, 1, -80.46352691456016],\n",
       " [0.0650269136163742, 18, 1, 365.12889449653494],\n",
       " [0.0803539031323108, 22, -1, 57.491004041800856],\n",
       " [0.06440387830923223, 0, -1, -2025.2533262270595],\n",
       " [0.05621770672380745, 12, 1, -31.27436178890457],\n",
       " [0.07115304596399054, 11, -1, -196.23273620644187],\n",
       " [0.08545966463406926, 12, -1, 33.05805973775662],\n",
       " [0.0571196040076717, 1, 1, -18.347056030820227]]"
      ]
     },
     "execution_count": 24,
     "metadata": {},
     "output_type": "execute_result"
    }
   ],
   "source": [
    "model"
   ]
  },
  {
   "cell_type": "code",
   "execution_count": 25,
   "id": "07c12944",
   "metadata": {},
   "outputs": [
    {
     "data": {
      "text/plain": [
       "[]"
      ]
     },
     "execution_count": 25,
     "metadata": {},
     "output_type": "execute_result"
    },
    {
     "data": {
      "image/png": "[encoded data removed]",
      "text/plain": [
       "<Figure size 640x480 with 1 Axes>"
      ]
     },
     "metadata": {},
     "output_type": "display_data"
    }
   ],
   "source": [
    "#k=F=50\n",
    "train_error=[]\n",
    "test_error=[]\n",
    "Ts=[10,50,100,150,200]\n",
    "model,eigenfaces=adaboost_train(X_tr,y_tr,200,50)\n",
    "for T in Ts:\n",
    "    y_pred_tr=adaboost_predict(eigenfaces,X_tr,model[:T])\n",
    "    tr_e=1-np.sum(y_pred_tr==y_tr)/y_tr.shape[0]\n",
    "    y_pred_te=adaboost_predict(eigenfaces,X_te,model[:T])\n",
    "    te_e=1-np.sum(y_pred_te==y_te)/y_te.shape[0]\n",
    "    train_error.append(tr_e)\n",
    "    test_error.append(te_e)\n",
    "fig,ax=plt.subplots()\n",
    "ax.plot(Ts,train_error,label=\"training_error\")\n",
    "ax.plot(Ts,test_error,label=\"testing_error\")\n",
    "ax.set_xlabel(\"T\")\n",
    "ax.set_ylabel(\"error\")\n",
    "ax.legend()\n",
    "plt.plot()"
   ]
  },
  {
   "cell_type": "markdown",
   "id": "c67a1a52",
   "metadata": {},
   "source": [
    "# 3.5.4"
   ]
  },
  {
   "cell_type": "code",
   "execution_count": 26,
   "id": "4864f58e",
   "metadata": {},
   "outputs": [],
   "source": [
    "def center(M):\n",
    "    mu=np.mean(M,axis=1,keepdims=True) #(4096,1)\n",
    "    M=M-mu # (4096,1071)\n",
    "    return M"
   ]
  },
  {
   "cell_type": "code",
   "execution_count": 27,
   "id": "46d446c4",
   "metadata": {},
   "outputs": [],
   "source": [
    "def ICA(M):\n",
    "    R_MM=M@np.transpose(M) #(4096,4096)\n",
    "    E,diag,temp=np.linalg.svd(R_MM) # (4096,4096)\n",
    "    C=np.diag(diag**(-0.5))@np.transpose(E) #(4096,4096)@(4096,4096)= (4096,4096)\n",
    "    X=C@M #(4096,4096)@(4096,1071)=(4096,1071)  \n",
    "#     print('mean of each row:',np.mean(X,axis=1))\n",
    "#     print('variance of each row:',np.var(X,axis=1))\n",
    "    X_col_norm=np.sum(X**2,axis=0) #(1071,1)\n",
    "    D=(X@(X*X_col_norm).T)/X.shape[1] #(4096,4096)\n",
    "    U,eigenvalue,temp=np.linalg.svd(D)\n",
    "    A=np.transpose(U)@C\n",
    "    ICA_faces=np.linalg.pinv(A)\n",
    "#     H=A@M\n",
    "#     #return H+mean\n",
    "#     ICA_faces=H+mu\n",
    "    return ICA_faces"
   ]
  },
  {
   "cell_type": "code",
   "execution_count": 28,
   "id": "a36292ec",
   "metadata": {},
   "outputs": [],
   "source": [
    "def getICA(M):\n",
    "    ICA_faces=ICA(M)\n",
    "    return ICA_faces"
   ]
  },
  {
   "cell_type": "code",
   "execution_count": 29,
   "id": "d2d270b1",
   "metadata": {},
   "outputs": [],
   "source": [
    "def adaboost_train(X_tr,y_tr,T,F,ICA_faces):\n",
    "#     minerrors=[]\n",
    "    W=np.linalg.pinv(ICA_faces)@X_tr\n",
    "    #initialize\n",
    "    sample_weight=np.ones(X_tr.shape[1])/X_tr.shape[1]\n",
    "    weak_learners=[]\n",
    "    for t in range(T):\n",
    "        error,f,sign,threshold=train_weak_learner(W,F,sample_weight,y_tr)\n",
    "#         minerrors.append(error)\n",
    "        alpha_t=get_alpha(error)\n",
    "        #f表示特征\n",
    "        weak_learners.append([alpha_t,f,sign,threshold])\n",
    "        for j in range(W.shape[1]):\n",
    "            if (W[f][j]>=threshold and sign!=y_tr[j]) or (W[f][j]<threshold and (-sign)!=y_tr[j]):\n",
    "                sample_weight[j]=sample_weight[j]*np.exp(alpha_t)\n",
    "            else:\n",
    "                sample_weight[j]=sample_weight[j]*np.exp(-alpha_t)\n",
    "        sample_weight=sample_weight/np.sum(sample_weight)\n",
    "    return weak_learners"
   ]
  },
  {
   "cell_type": "code",
   "execution_count": 30,
   "id": "4d318a24",
   "metadata": {},
   "outputs": [],
   "source": [
    "def adaboost_predict(ICA_faces,X_te,model):\n",
    "    W_te=np.linalg.pinv(ICA_faces)@X_te\n",
    "    y_pred=[]\n",
    "    for i in range(W_te.shape[1]):\n",
    "        tempsum=0\n",
    "        for weak_learner in model:\n",
    "            alpha=weak_learner[0]\n",
    "            f=weak_learner[1]\n",
    "            sign=weak_learner[2]\n",
    "            threshold=weak_learner[3]\n",
    "            if W_te[f][i]>=threshold:\n",
    "                if sign==1:\n",
    "                    tempsum=tempsum+alpha\n",
    "                else:\n",
    "                    tempsum=tempsum-alpha\n",
    "            else:\n",
    "                if sign==1:\n",
    "                    tempsum=tempsum-alpha\n",
    "                else:\n",
    "                    tempsum=tempsum+alpha\n",
    "        y_pred.append(np.sign(tempsum))\n",
    "    return y_pred"
   ]
  },
  {
   "cell_type": "code",
   "execution_count": 31,
   "id": "8563b103",
   "metadata": {},
   "outputs": [
    {
     "data": {
      "text/plain": [
       "[[0.5951793663354022, 3, 1, 39.11871775815683],\n",
       " [0.4574632131874288, 1, 1, 114.37401860251862],\n",
       " [0.3661597790633906, 2, -1, -57.72453106508308],\n",
       " [0.2917263860786582, 7, -1, -2.3053250230899685],\n",
       " [0.2999736440449589, 5, -1, -73.00925869507398],\n",
       " [0.31943436656262014, 3, 1, -52.52481506765639],\n",
       " [0.3654483689759868, 0, -1, -2662.4660881824257],\n",
       " [0.3911821221845733, 1, 1, -103.52446734216073],\n",
       " [0.2586717346930103, 6, 1, 4.80661923640065],\n",
       " [0.24229759597625822, 21, -1, -38.465901628909734],\n",
       " [0.20943901844800888, 0, -1, -1619.2252769819734],\n",
       " [0.22155564416548845, 11, 1, 14.106133199037117],\n",
       " [0.20380599907557304, 9, 1, 15.925083746796957],\n",
       " [0.19992127135764517, 19, -1, -48.33636015464635],\n",
       " [0.24968992842633103, 3, 1, -136.84057709649585],\n",
       " [0.24665202208511863, 1, 1, 478.1760448348846],\n",
       " [0.2287278456814322, 27, 1, -31.2634367030812],\n",
       " [0.19630855094605137, 8, -1, -18.420743725683067],\n",
       " [0.20259423338190005, 18, 1, -6.095766444269568],\n",
       " [0.19007342710238395, 2, -1, 1.5007761532003476],\n",
       " [0.19546982788599784, 13, 1, 11.398767935463269],\n",
       " [0.21653628225240942, 0, -1, -3210.7331204722523],\n",
       " [0.24697674436524134, 1, 1, -252.36970108237085],\n",
       " [0.20140418743067226, 3, 1, 199.23384616958754],\n",
       " [0.19773643522398895, 23, 1, -24.198334109075304],\n",
       " [0.16125912834945083, 0, -1, -2360.1659913114904],\n",
       " [0.14945655319414552, 3, 1, -164.07285574197897],\n",
       " [0.2163616845333812, 1, 1, 702.2906319179976],\n",
       " [0.19050265511226694, 6, 1, -79.30026704141679],\n",
       " [0.1489749294188814, 2, -1, -119.44379527380913],\n",
       " [0.15500934228957844, 12, 1, -51.08291942441352],\n",
       " [0.14710437396854417, 0, -1, -3629.377340093339],\n",
       " [0.19125186705036917, 3, 1, -208.04041613812024],\n",
       " [0.16659913485256228, 1, 1, 558.0546733536884],\n",
       " [0.1866678694268717, 1, 1, -224.61078772980989],\n",
       " [0.14152174949044566, 47, 1, 33.50416823576097],\n",
       " [0.1616950026936955, 32, -1, 21.558754752092465],\n",
       " [0.13658852196847268, 26, 1, -2.3969367192856703],\n",
       " [0.1416458942506518, 0, -1, -3584.849771571209],\n",
       " [0.17458718732917014, 0, -1, -1387.0800905140718],\n",
       " [0.12697960463614782, 17, -1, 14.326557188237745],\n",
       " [0.14168702020166826, 3, 1, 511.42258808875465],\n",
       " [0.16760151048213875, 12, -1, 64.88060012300787],\n",
       " [0.12079360471405812, 3, 1, -28.058341927863125],\n",
       " [0.15142212836777347, 2, -1, -675.5763119559014],\n",
       " [0.1664708734640298, 41, 1, -25.72618982650185],\n",
       " [0.11825865648527523, 27, 1, 0.2840206680481945],\n",
       " [0.12539008939212573, 1, 1, -54.17704203450876],\n",
       " [0.13453365968173375, 39, 1, 23.511658561941626],\n",
       " [0.12261333825682516, 34, -1, 23.194023090236044],\n",
       " [0.11852592140593556, 42, -1, -46.042590699993156],\n",
       " [0.1476317937339871, 49, 1, -33.04218194628653],\n",
       " [0.12669231805301068, 21, -1, -66.09627839107782],\n",
       " [0.13376321796671398, 7, -1, 57.12185683641212],\n",
       " [0.11971301612652013, 0, -1, -2771.8728457197662],\n",
       " [0.13660374103664957, 13, 1, -31.911578528743718],\n",
       " [0.1330015015797042, 2, -1, -225.60627641446683],\n",
       " [0.14604857457770257, 3, 1, -200.5401691887472],\n",
       " [0.147515471560443, 5, -1, -202.02503982128073],\n",
       " [0.12418048703727157, 10, -1, 58.81933250180553],\n",
       " [0.1232652481589579, 38, -1, -25.683146191010724],\n",
       " [0.12077584857701723, 47, 1, -28.370072251768654],\n",
       " [0.12708327774846823, 1, 1, 370.76062599326224],\n",
       " [0.13737123522140193, 43, -1, 35.48649779539348],\n",
       " [0.11144167388002858, 11, 1, 47.72500697627322],\n",
       " [0.11677822067875562, 15, 1, -57.05412279931339],\n",
       " [0.12679329273777648, 0, -1, -3825.448486513179],\n",
       " [0.1516032052214617, 1, 1, -323.5579665091616],\n",
       " [0.13356460864112862, 28, 1, 92.97097963232454],\n",
       " [0.13441681820888957, 3, 1, -210.68704066624173],\n",
       " [0.13247572333648344, 3, 1, 519.7784938364739],\n",
       " [0.1352493800323464, 0, -1, -1218.9595708938105],\n",
       " [0.10632547621885458, 33, 1, 5.12777671313491],\n",
       " [0.10160007003245686, 19, -1, -1.8300163057727303],\n",
       " [0.10380998555793809, 2, -1, 140.32760673664455],\n",
       " [0.14539587038881582, 1, 1, 724.8182980649034],\n",
       " [0.13849347261780945, 4, 1, -171.06610845596288],\n",
       " [0.10682589664655742, 3, 1, 105.75602703336472],\n",
       " [0.10264536238766388, 21, -1, -4.419295963798347],\n",
       " [0.09801714962581651, 24, 1, -45.51188940915013],\n",
       " [0.12699704254619382, 6, 1, 146.97192153473802],\n",
       " [0.12426274847907809, 1, 1, -315.1415603942014],\n",
       " [0.13006356420650703, 0, -1, -3629.377340093339],\n",
       " [0.1242356825988971, 23, 1, -43.908593568764275],\n",
       " [0.09225388577220558, 42, -1, -0.04770895831646271],\n",
       " [0.08872836118273159, 5, -1, -14.700336384919751],\n",
       " [0.10698866937108491, 2, -1, -197.5667961262434],\n",
       " [0.10275497813156721, 26, 1, -59.65141391634103],\n",
       " [0.11269904978337963, 1, 1, 784.734678909103],\n",
       " [0.13236017011324883, 3, 1, -210.68704066624173],\n",
       " [0.11469876243154133, 16, -1, -249.59325973058955],\n",
       " [0.12499245029128128, 15, 1, -93.23136529189448],\n",
       " [0.11209159715962155, 0, -1, -2341.007862613967],\n",
       " [0.09262220466352415, 1, 1, 31.473775657489227],\n",
       " [0.09821105826283669, 9, 1, -15.539521775220749],\n",
       " [0.09805546805051242, 7, -1, -111.31989849989472],\n",
       " [0.11090905532789436, 9, -1, 137.2040800775987],\n",
       " [0.11065996915935614, 1, 1, 784.734678909103],\n",
       " [0.12775665369598854, 3, 1, -91.13761216113176],\n",
       " [0.0922248516311424, 41, 1, 16.187921111328524],\n",
       " [0.1000583969896974, 34, -1, 46.376068362531996],\n",
       " [0.11751754649895181, 2, -1, -805.5564578760332],\n",
       " [0.12759093377159078, 47, 1, -42.465376533184305],\n",
       " [0.10361918770632852, 16, 1, 157.39317691427777],\n",
       " [0.11527656856727808, 1, 1, -338.92064266934244],\n",
       " [0.1078360424320252, 3, 1, 532.7394723623765],\n",
       " [0.11654975812937339, 38, -1, 43.975903875226265],\n",
       " [0.08523442625396588, 16, -1, -27.345626392640312],\n",
       " [0.08067386180766485, 46, -1, -6.123038428766513],\n",
       " [0.09173248738669257, 22, 1, -82.24953388056777],\n",
       " [0.10766321804471893, 16, 1, 84.44702701150187],\n",
       " [0.09670437220782592, 45, 1, -41.32975936719771],\n",
       " [0.10399022753963438, 1, 1, 724.8182980649034],\n",
       " [0.11395299607496472, 2, -1, 350.11434094590413],\n",
       " [0.09596290950178964, 8, -1, -66.70626282074885],\n",
       " [0.09058740943445806, 17, -1, 54.77316883445967],\n",
       " [0.10047369182975062, 3, 1, 197.7742883708313],\n",
       " [0.0992319407639037, 17, 1, -55.68873209812297],\n",
       " [0.0999815499388555, 21, -1, -84.44599937805916],\n",
       " [0.1074733125893142, 1, 1, -177.9053972747285],\n",
       " [0.09433167244176177, 6, 1, 61.42521739845844],\n",
       " [0.08898233951382378, 12, 1, -50.983547932594284],\n",
       " [0.09076904378260822, 35, -1, -75.17195431077525],\n",
       " [0.10628051591024201, 31, -1, 86.44509227630454],\n",
       " [0.10302245112183711, 2, -1, -801.6673517062703],\n",
       " [0.11564727073603075, 3, 1, -210.68704066624173],\n",
       " [0.10424823566091335, 1, 1, 724.8182980649034],\n",
       " [0.11002979310048443, 23, 1, -90.06687720588664],\n",
       " [0.102775125539646, 2, -1, -128.84214589679402],\n",
       " [0.07990686811178643, 27, 1, -9.909348497467796],\n",
       " [0.08332529745254583, 40, -1, -17.953215096986597],\n",
       " [0.09080485149211283, 0, -1, -1464.8001686484483],\n",
       " [0.09034715210150725, 0, -1, -3825.448486513179],\n",
       " [0.1143619552965637, 32, -1, 49.10481738089638],\n",
       " [0.08857121368399459, 16, -1, -249.59325973058955],\n",
       " [0.1111223647382047, 7, -1, 79.32750130905657],\n",
       " [0.08258401010051392, 23, 1, 14.553263558883629],\n",
       " [0.08260233578051178, 13, 1, 3.828899579490569],\n",
       " [0.08316792238391645, 3, 1, 197.7742883708313],\n",
       " [0.10076783766550174, 49, 1, -41.637412975742635],\n",
       " [0.09814136728550517, 0, -1, -3167.7269568109714],\n",
       " [0.10129774592106602, 44, -1, 25.90106126075105],\n",
       " [0.0962514964281467, 1, 1, 41.405123473658705],\n",
       " [0.08729220077961643, 9, 1, 5.821053591936561],\n",
       " [0.0791443251433037, 29, -1, -19.284704885669896],\n",
       " [0.08783070301182895, 39, 1, -19.226652391588082],\n",
       " [0.0872165346378338, 1, 1, 497.3876035504202],\n",
       " [0.1140430025441698, 3, 1, -150.96528739763664],\n",
       " [0.0978016571765488, 2, -1, -893.7300623925639],\n",
       " [0.1106256102648486, 6, 1, -127.29187237718475],\n",
       " [0.08329575250049286, 3, 1, 511.42258808875465],\n",
       " [0.10759734361892337, 12, -1, 108.68535575321053],\n",
       " [0.08502235540429044, 19, -1, -109.68050078117949],\n",
       " [0.09882443636343574, 42, -1, 39.21394392952555],\n",
       " [0.07874962226586063, 18, 1, 39.308687845219495],\n",
       " [0.07825966746876023, 5, -1, -14.700336384919751],\n",
       " [0.07598542453205256, 0, -1, -2456.56173304885],\n",
       " [0.08237689486967213, 37, -1, 9.953086832570857],\n",
       " [0.06893703255209249, 2, -1, 178.07220178921105],\n",
       " [0.10371002088268767, 1, 1, 784.734678909103],\n",
       " [0.10830977222652431, 1, 1, -332.47056221339477],\n",
       " [0.09616225327098193, 2, -1, -893.7300623925639],\n",
       " [0.10418472229097317, 3, 1, -285.6029084815499],\n",
       " [0.0969863641405502, 1, 1, 542.1971656463388],\n",
       " [0.09911700186615865, 48, -1, 46.83340030909008],\n",
       " [0.08080558340312172, 15, 1, 18.571448937734658],\n",
       " [0.07218938395020026, 3, 1, -28.058341927863125],\n",
       " [0.09236978404241135, 28, 1, 92.97097963232454],\n",
       " [0.09589532658984404, 43, -1, 42.993915205733686],\n",
       " [0.08339532304254853, 21, -1, -79.25808175222309],\n",
       " [0.08442228473004215, 31, -1, 86.19244781416162],\n",
       " [0.0967001696369894, 16, -1, -224.74156677428226],\n",
       " [0.10179905195546657, 0, -1, -906.3851958160321],\n",
       " [0.09109272340143325, 6, 1, 485.79527303190025],\n",
       " [0.1023566190801612, 38, -1, 77.00438973225212],\n",
       " [0.08811052907124876, 2, -1, -274.2964234638272],\n",
       " [0.09069557805991355, 1, 1, -150.18402795834731],\n",
       " [0.07521198748004539, 42, -1, -57.56867465962679],\n",
       " [0.09949364248213659, 41, 1, -42.850375747690464],\n",
       " [0.0840910504146572, 18, 1, 365.1288944965349],\n",
       " [0.10123779511213996, 47, 1, -42.465376533184305],\n",
       " [0.07904571304473264, 0, -1, -2883.694698353647],\n",
       " [0.08093360815821987, 12, 1, -112.49684804357014],\n",
       " [0.09522367102840275, 14, -1, -115.74788720420398],\n",
       " [0.08012912560386487, 48, 1, -18.647846022332605],\n",
       " [0.07840007085750268, 49, 1, 4.625970198615171],\n",
       " [0.07089600848100966, 11, 1, 44.47621889041102],\n",
       " [0.08267977167007919, 34, -1, 43.976713663497165],\n",
       " [0.07628775030344072, 7, -1, -111.31989849989472],\n",
       " [0.0797857399123445, 4, 1, -224.0482904309364],\n",
       " [0.09139109598281574, 6, 1, 310.8093814122089],\n",
       " [0.100749307830156, 3, 1, -210.68704066624173],\n",
       " [0.09007410683915838, 1, 1, 724.8182980649034],\n",
       " [0.09570631826293337, 13, -1, 118.20769853498246],\n",
       " [0.07574376762920766, 6, 1, 485.79527303190025],\n",
       " [0.09879463776465132, 15, 1, -98.07055445404819],\n",
       " [0.08159394787307937, 18, 1, 365.1288944965349],\n",
       " [0.09780128318597785, 0, -1, -1551.9101036564502],\n",
       " [0.0849578629321565, 13, 1, -9.24686376582876],\n",
       " [0.07814954117078331, 36, 1, 28.282283262702403]]"
      ]
     },
     "execution_count": 31,
     "metadata": {},
     "output_type": "execute_result"
    }
   ],
   "source": [
    "model"
   ]
  },
  {
   "cell_type": "code",
   "execution_count": 32,
   "id": "802aaf26",
   "metadata": {},
   "outputs": [
    {
     "data": {
      "image/png": "[encoded data removed]",
      "text/plain": [
       "<Figure size 640x480 with 1 Axes>"
      ]
     },
     "metadata": {},
     "output_type": "display_data"
    },
    {
     "data": {
      "image/png": "[encoded data removed]",
      "text/plain": [
       "<Figure size 640x480 with 1 Axes>"
      ]
     },
     "metadata": {},
     "output_type": "display_data"
    },
    {
     "data": {
      "image/png": "[encoded data removed]",
      "text/plain": [
       "<Figure size 640x480 with 1 Axes>"
      ]
     },
     "metadata": {},
     "output_type": "display_data"
    }
   ],
   "source": [
    "X_tr_centered=center(X_tr)\n",
    "ICA_faces=getICA(X_tr_centered)\n",
    "for k in [10,30,50]:\n",
    "    train_error=[]\n",
    "    test_error=[]\n",
    "    model=adaboost_train(X_tr,y_tr,200,k,ICA_faces[:,:k])\n",
    "    Ts=[10,50,100,150,200]\n",
    "    for T in Ts:\n",
    "        y_pred_tr=adaboost_predict(ICA_faces[:,:k],X_tr,model[:T])\n",
    "        tr_e=1-np.sum(y_pred_tr==y_tr)/y_tr.shape[0]\n",
    "        y_pred_te=adaboost_predict(ICA_faces[:,:k],X_te,model[:T])\n",
    "        te_e=1-np.sum(y_pred_te==y_te)/y_te.shape[0]\n",
    "        train_error.append(tr_e)\n",
    "        test_error.append(te_e)\n",
    "    fig,ax=plt.subplots()\n",
    "    ax.plot(Ts,train_error,label=\"training_error\")\n",
    "    ax.plot(Ts,test_error,label=\"testing_error\")\n",
    "    ax.set_xlabel(\"T\")\n",
    "    ax.set_ylabel(\"error\")\n",
    "    ax.legend()\n",
    "    plt.plot()"
   ]
  },
  {
   "cell_type": "code",
   "execution_count": null,
   "id": "51bcb30b",
   "metadata": {},
   "outputs": [],
   "source": []
  }
 ],
 "metadata": {
  "kernelspec": {
   "display_name": "Python 3 (ipykernel)",
   "language": "python",
   "name": "python3"
  },
  "language_info": {
   "codemirror_mode": {
    "name": "ipython",
    "version": 3
   },
   "file_extension": ".py",
   "mimetype": "text/x-python",
   "name": "python",
   "nbconvert_exporter": "python",
   "pygments_lexer": "ipython3",
   "version": "3.11.4"
  }
 },
 "nbformat": 4,
 "nbformat_minor": 5
}
